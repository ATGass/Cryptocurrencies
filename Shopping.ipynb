{
 "cells": [
  {
   "cell_type": "code",
   "execution_count": 2,
   "metadata": {},
   "outputs": [],
   "source": [
    "# Initial imports\n",
    "import pandas as pd\n",
    "from sklearn.cluster import KMeans\n",
    "import plotly.express as px\n",
    "import hvplot.pandas"
   ]
  },
  {
   "cell_type": "code",
   "execution_count": 3,
   "metadata": {},
   "outputs": [
    {
     "data": {
      "text/html": [
       "<div>\n",
       "<style scoped>\n",
       "    .dataframe tbody tr th:only-of-type {\n",
       "        vertical-align: middle;\n",
       "    }\n",
       "\n",
       "    .dataframe tbody tr th {\n",
       "        vertical-align: top;\n",
       "    }\n",
       "\n",
       "    .dataframe thead th {\n",
       "        text-align: right;\n",
       "    }\n",
       "</style>\n",
       "<table border=\"1\" class=\"dataframe\">\n",
       "  <thead>\n",
       "    <tr style=\"text-align: right;\">\n",
       "      <th></th>\n",
       "      <th>Card Member</th>\n",
       "      <th>Age</th>\n",
       "      <th>Annual Income</th>\n",
       "      <th>Spending Score (1-100)</th>\n",
       "    </tr>\n",
       "  </thead>\n",
       "  <tbody>\n",
       "    <tr>\n",
       "      <th>0</th>\n",
       "      <td>1</td>\n",
       "      <td>19.0</td>\n",
       "      <td>15.0</td>\n",
       "      <td>39.0</td>\n",
       "    </tr>\n",
       "    <tr>\n",
       "      <th>1</th>\n",
       "      <td>1</td>\n",
       "      <td>21.0</td>\n",
       "      <td>15.0</td>\n",
       "      <td>81.0</td>\n",
       "    </tr>\n",
       "    <tr>\n",
       "      <th>2</th>\n",
       "      <td>0</td>\n",
       "      <td>20.0</td>\n",
       "      <td>16.0</td>\n",
       "      <td>6.0</td>\n",
       "    </tr>\n",
       "    <tr>\n",
       "      <th>3</th>\n",
       "      <td>0</td>\n",
       "      <td>23.0</td>\n",
       "      <td>16.0</td>\n",
       "      <td>77.0</td>\n",
       "    </tr>\n",
       "    <tr>\n",
       "      <th>4</th>\n",
       "      <td>0</td>\n",
       "      <td>31.0</td>\n",
       "      <td>17.0</td>\n",
       "      <td>40.0</td>\n",
       "    </tr>\n",
       "    <tr>\n",
       "      <th>5</th>\n",
       "      <td>0</td>\n",
       "      <td>22.0</td>\n",
       "      <td>17.0</td>\n",
       "      <td>76.0</td>\n",
       "    </tr>\n",
       "    <tr>\n",
       "      <th>6</th>\n",
       "      <td>0</td>\n",
       "      <td>35.0</td>\n",
       "      <td>18.0</td>\n",
       "      <td>6.0</td>\n",
       "    </tr>\n",
       "    <tr>\n",
       "      <th>7</th>\n",
       "      <td>0</td>\n",
       "      <td>23.0</td>\n",
       "      <td>18.0</td>\n",
       "      <td>94.0</td>\n",
       "    </tr>\n",
       "    <tr>\n",
       "      <th>8</th>\n",
       "      <td>1</td>\n",
       "      <td>64.0</td>\n",
       "      <td>19.0</td>\n",
       "      <td>3.0</td>\n",
       "    </tr>\n",
       "    <tr>\n",
       "      <th>9</th>\n",
       "      <td>0</td>\n",
       "      <td>30.0</td>\n",
       "      <td>19.0</td>\n",
       "      <td>72.0</td>\n",
       "    </tr>\n",
       "  </tbody>\n",
       "</table>\n",
       "</div>"
      ],
      "text/plain": [
       "   Card Member   Age  Annual Income  Spending Score (1-100)\n",
       "0            1  19.0           15.0                    39.0\n",
       "1            1  21.0           15.0                    81.0\n",
       "2            0  20.0           16.0                     6.0\n",
       "3            0  23.0           16.0                    77.0\n",
       "4            0  31.0           17.0                    40.0\n",
       "5            0  22.0           17.0                    76.0\n",
       "6            0  35.0           18.0                     6.0\n",
       "7            0  23.0           18.0                    94.0\n",
       "8            1  64.0           19.0                     3.0\n",
       "9            0  30.0           19.0                    72.0"
      ]
     },
     "execution_count": 3,
     "metadata": {},
     "output_type": "execute_result"
    }
   ],
   "source": [
    "file_path = \"Resources/shopping_data_cleaned.csv\"\n",
    "shopping_df = pd.read_csv(file_path)\n",
    "shopping_df.head(10)"
   ]
  },
  {
   "cell_type": "code",
   "execution_count": 4,
   "metadata": {},
   "outputs": [
    {
     "data": {},
     "metadata": {},
     "output_type": "display_data"
    },
    {
     "data": {
      "application/vnd.holoviews_exec.v0+json": "",
      "text/html": [
       "<div id='1002'>\n",
       "\n",
       "\n",
       "\n",
       "\n",
       "\n",
       "  <div class=\"bk-root\" id=\"c46ebe94-2c05-4f9d-8326-3c3cb0b43052\" data-root-id=\"1002\"></div>\n",
       "</div>\n",
       "<script type=\"application/javascript\">(function(root) {\n",
       "  function embed_document(root) {\n",
       "    var docs_json = {\"3ad6abdd-d4ff-4112-a523-6defd0f10283\":{\"defs\":[{\"extends\":null,\"module\":null,\"name\":\"ReactiveHTML1\",\"overrides\":[],\"properties\":[]},{\"extends\":null,\"module\":null,\"name\":\"FlexBox1\",\"overrides\":[],\"properties\":[{\"default\":\"flex-start\",\"kind\":null,\"name\":\"align_content\"},{\"default\":\"flex-start\",\"kind\":null,\"name\":\"align_items\"},{\"default\":\"row\",\"kind\":null,\"name\":\"flex_direction\"},{\"default\":\"wrap\",\"kind\":null,\"name\":\"flex_wrap\"},{\"default\":\"flex-start\",\"kind\":null,\"name\":\"justify_content\"}]},{\"extends\":null,\"module\":null,\"name\":\"TemplateActions1\",\"overrides\":[],\"properties\":[{\"default\":0,\"kind\":null,\"name\":\"open_modal\"},{\"default\":0,\"kind\":null,\"name\":\"close_modal\"}]},{\"extends\":null,\"module\":null,\"name\":\"MaterialTemplateActions1\",\"overrides\":[],\"properties\":[{\"default\":0,\"kind\":null,\"name\":\"open_modal\"},{\"default\":0,\"kind\":null,\"name\":\"close_modal\"}]}],\"roots\":{\"references\":[{\"attributes\":{\"axis\":{\"id\":\"1020\"},\"dimension\":1,\"grid_line_color\":null,\"ticker\":null},\"id\":\"1023\",\"type\":\"Grid\"},{\"attributes\":{\"data\":{\"Annual Income\":{\"__ndarray__\":\"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\",\"dtype\":\"float64\",\"order\":\"little\",\"shape\":[200]},\"Annual_Income\":{\"__ndarray__\":\"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\",\"dtype\":\"float64\",\"order\":\"little\",\"shape\":[200]},\"Spending Score (1-100)\":{\"__ndarray__\":\"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\",\"dtype\":\"float64\",\"order\":\"little\",\"shape\":[200]},\"Spending_Score_left_parenthesis_1_hyphen_minus_100_right_parenthesis\":{\"__ndarray__\":\"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\",\"dtype\":\"float64\",\"order\":\"little\",\"shape\":[200]}},\"selected\":{\"id\":\"1038\"},\"selection_policy\":{\"id\":\"1059\"}},\"id\":\"1037\",\"type\":\"ColumnDataSource\"},{\"attributes\":{\"axis_label\":\"Annual Income\",\"formatter\":{\"id\":\"1046\"},\"major_label_policy\":{\"id\":\"1048\"},\"ticker\":{\"id\":\"1017\"}},\"id\":\"1016\",\"type\":\"LinearAxis\"},{\"attributes\":{\"active_multi\":null,\"tools\":[{\"id\":\"1006\"},{\"id\":\"1024\"},{\"id\":\"1025\"},{\"id\":\"1026\"},{\"id\":\"1027\"},{\"id\":\"1028\"}]},\"id\":\"1030\",\"type\":\"Toolbar\"},{\"attributes\":{\"fill_alpha\":{\"value\":0.1},\"fill_color\":{\"value\":\"#30a2da\"},\"line_alpha\":{\"value\":0.1},\"line_color\":{\"value\":\"#30a2da\"},\"size\":{\"value\":5.477225575051661},\"x\":{\"field\":\"Annual Income\"},\"y\":{\"field\":\"Spending Score (1-100)\"}},\"id\":\"1041\",\"type\":\"Scatter\"},{\"attributes\":{\"below\":[{\"id\":\"1016\"}],\"center\":[{\"id\":\"1019\"},{\"id\":\"1023\"}],\"height\":300,\"left\":[{\"id\":\"1020\"}],\"margin\":[5,5,5,5],\"min_border_bottom\":10,\"min_border_left\":10,\"min_border_right\":10,\"min_border_top\":10,\"renderers\":[{\"id\":\"1043\"}],\"sizing_mode\":\"fixed\",\"title\":{\"id\":\"1008\"},\"toolbar\":{\"id\":\"1030\"},\"width\":700,\"x_range\":{\"id\":\"1004\"},\"x_scale\":{\"id\":\"1012\"},\"y_range\":{\"id\":\"1005\"},\"y_scale\":{\"id\":\"1014\"}},\"id\":\"1007\",\"subtype\":\"Figure\",\"type\":\"Plot\"},{\"attributes\":{},\"id\":\"1025\",\"type\":\"PanTool\"},{\"attributes\":{},\"id\":\"1046\",\"type\":\"BasicTickFormatter\"},{\"attributes\":{\"end\":108.8,\"reset_end\":108.8,\"reset_start\":-8.8,\"start\":-8.8,\"tags\":[[[\"Spending Score (1-100)\",\"Spending Score (1-100)\",null]]]},\"id\":\"1005\",\"type\":\"Range1d\"},{\"attributes\":{\"margin\":[5,5,5,5],\"name\":\"HSpacer01634\",\"sizing_mode\":\"stretch_width\"},\"id\":\"1072\",\"type\":\"Spacer\"},{\"attributes\":{},\"id\":\"1026\",\"type\":\"WheelZoomTool\"},{\"attributes\":{},\"id\":\"1048\",\"type\":\"AllLabels\"},{\"attributes\":{},\"id\":\"1049\",\"type\":\"BasicTickFormatter\"},{\"attributes\":{},\"id\":\"1012\",\"type\":\"LinearScale\"},{\"attributes\":{\"overlay\":{\"id\":\"1029\"}},\"id\":\"1027\",\"type\":\"BoxZoomTool\"},{\"attributes\":{},\"id\":\"1014\",\"type\":\"LinearScale\"},{\"attributes\":{\"fill_alpha\":{\"value\":0.2},\"fill_color\":{\"value\":\"#30a2da\"},\"line_alpha\":{\"value\":0.2},\"line_color\":{\"value\":\"#30a2da\"},\"size\":{\"value\":5.477225575051661},\"x\":{\"field\":\"Annual Income\"},\"y\":{\"field\":\"Spending Score (1-100)\"}},\"id\":\"1042\",\"type\":\"Scatter\"},{\"attributes\":{},\"id\":\"1028\",\"type\":\"ResetTool\"},{\"attributes\":{},\"id\":\"1038\",\"type\":\"Selection\"},{\"attributes\":{\"fill_color\":{\"value\":\"#30a2da\"},\"line_color\":{\"value\":\"#30a2da\"},\"size\":{\"value\":5.477225575051661},\"x\":{\"field\":\"Annual Income\"},\"y\":{\"field\":\"Spending Score (1-100)\"}},\"id\":\"1040\",\"type\":\"Scatter\"},{\"attributes\":{},\"id\":\"1017\",\"type\":\"BasicTicker\"},{\"attributes\":{},\"id\":\"1051\",\"type\":\"AllLabels\"},{\"attributes\":{\"text_color\":\"black\",\"text_font_size\":\"12pt\"},\"id\":\"1008\",\"type\":\"Title\"},{\"attributes\":{\"end\":142.22857142857143,\"reset_end\":142.22857142857143,\"reset_start\":9.771428571428572,\"start\":9.771428571428572,\"tags\":[[[\"Annual Income\",\"Annual Income\",null]]]},\"id\":\"1004\",\"type\":\"Range1d\"},{\"attributes\":{\"axis\":{\"id\":\"1016\"},\"grid_line_color\":null,\"ticker\":null},\"id\":\"1019\",\"type\":\"Grid\"},{\"attributes\":{\"angle\":{\"value\":0.0},\"fill_alpha\":{\"value\":1.0},\"fill_color\":{\"value\":\"#30a2da\"},\"hatch_alpha\":{\"value\":1.0},\"hatch_color\":{\"value\":\"black\"},\"hatch_scale\":{\"value\":12.0},\"hatch_weight\":{\"value\":1.0},\"line_alpha\":{\"value\":1.0},\"line_cap\":{\"value\":\"butt\"},\"line_color\":{\"value\":\"#30a2da\"},\"line_dash\":{\"value\":[]},\"line_dash_offset\":{\"value\":0},\"line_join\":{\"value\":\"bevel\"},\"line_width\":{\"value\":1},\"marker\":{\"value\":\"circle\"},\"size\":{\"value\":5.477225575051661},\"x\":{\"field\":\"Annual Income\"},\"y\":{\"field\":\"Spending Score (1-100)\"}},\"id\":\"1045\",\"type\":\"Scatter\"},{\"attributes\":{},\"id\":\"1021\",\"type\":\"BasicTicker\"},{\"attributes\":{\"axis_label\":\"Spending Score (1-100)\",\"formatter\":{\"id\":\"1049\"},\"major_label_policy\":{\"id\":\"1051\"},\"ticker\":{\"id\":\"1021\"}},\"id\":\"1020\",\"type\":\"LinearAxis\"},{\"attributes\":{\"source\":{\"id\":\"1037\"}},\"id\":\"1044\",\"type\":\"CDSView\"},{\"attributes\":{\"callback\":null,\"renderers\":[{\"id\":\"1043\"}],\"tags\":[\"hv_created\"],\"tooltips\":[[\"Annual Income\",\"@{Annual_Income}\"],[\"Spending Score (1-100)\",\"@{Spending_Score_left_parenthesis_1_hyphen_minus_100_right_parenthesis}\"]]},\"id\":\"1006\",\"type\":\"HoverTool\"},{\"attributes\":{\"margin\":[5,5,5,5],\"name\":\"HSpacer01633\",\"sizing_mode\":\"stretch_width\"},\"id\":\"1003\",\"type\":\"Spacer\"},{\"attributes\":{\"children\":[{\"id\":\"1003\"},{\"id\":\"1007\"},{\"id\":\"1072\"}],\"margin\":[0,0,0,0],\"name\":\"Row01629\",\"tags\":[\"embedded\"]},\"id\":\"1002\",\"type\":\"Row\"},{\"attributes\":{},\"id\":\"1024\",\"type\":\"SaveTool\"},{\"attributes\":{\"data_source\":{\"id\":\"1037\"},\"glyph\":{\"id\":\"1040\"},\"hover_glyph\":null,\"muted_glyph\":{\"id\":\"1042\"},\"nonselection_glyph\":{\"id\":\"1041\"},\"selection_glyph\":{\"id\":\"1045\"},\"view\":{\"id\":\"1044\"}},\"id\":\"1043\",\"type\":\"GlyphRenderer\"},{\"attributes\":{\"bottom_units\":\"screen\",\"fill_alpha\":0.5,\"fill_color\":\"lightgrey\",\"left_units\":\"screen\",\"level\":\"overlay\",\"line_alpha\":1.0,\"line_color\":\"black\",\"line_dash\":[4,4],\"line_width\":2,\"right_units\":\"screen\",\"syncable\":false,\"top_units\":\"screen\"},\"id\":\"1029\",\"type\":\"BoxAnnotation\"},{\"attributes\":{},\"id\":\"1059\",\"type\":\"UnionRenderers\"}],\"root_ids\":[\"1002\"]},\"title\":\"Bokeh Application\",\"version\":\"2.3.2\"}};\n",
       "    var render_items = [{\"docid\":\"3ad6abdd-d4ff-4112-a523-6defd0f10283\",\"root_ids\":[\"1002\"],\"roots\":{\"1002\":\"c46ebe94-2c05-4f9d-8326-3c3cb0b43052\"}}];\n",
       "    root.Bokeh.embed.embed_items_notebook(docs_json, render_items);\n",
       "  }\n",
       "  if (root.Bokeh !== undefined && root.Bokeh.Panel !== undefined) {\n",
       "    embed_document(root);\n",
       "  } else {\n",
       "    var attempts = 0;\n",
       "    var timer = setInterval(function(root) {\n",
       "      if (root.Bokeh !== undefined && root.Bokeh.Panel !== undefined) {\n",
       "        clearInterval(timer);\n",
       "        embed_document(root);\n",
       "      } else if (document.readyState == \"complete\") {\n",
       "        attempts++;\n",
       "        if (attempts > 200) {\n",
       "          clearInterval(timer);\n",
       "          console.log(\"Bokeh: ERROR: Unable to run BokehJS code because BokehJS library is missing\");\n",
       "        }\n",
       "      }\n",
       "    }, 25, root)\n",
       "  }\n",
       "})(window);</script>"
      ],
      "text/plain": [
       ":Scatter   [Annual Income]   (Spending Score (1-100))"
      ]
     },
     "execution_count": 4,
     "metadata": {
      "application/vnd.holoviews_exec.v0+json": {
       "id": "1002"
      }
     },
     "output_type": "execute_result"
    }
   ],
   "source": [
    "shopping_df.hvplot.scatter(x=\"Annual Income\", y=\"Spending Score (1-100)\")"
   ]
  },
  {
   "cell_type": "code",
   "execution_count": 5,
   "metadata": {},
   "outputs": [],
   "source": [
    "# Function to cluster and plot dataset\n",
    "def test_cluster_amount(df, clusters):\n",
    "    model = KMeans(n_clusters=clusters, random_state=5)\n",
    "    model\n",
    "\n",
    "    # Fitting model\n",
    "    model.fit(shopping_df)\n",
    "\n",
    "    # Add a new class column to df_iris\n",
    "    shopping_df[\"class\"] = model.labels_"
   ]
  },
  {
   "cell_type": "code",
   "execution_count": 6,
   "metadata": {},
   "outputs": [
    {
     "data": {},
     "metadata": {},
     "output_type": "display_data"
    },
    {
     "data": {
      "application/vnd.holoviews_exec.v0+json": "",
      "text/html": [
       "<div id='1124'>\n",
       "\n",
       "\n",
       "\n",
       "\n",
       "\n",
       "  <div class=\"bk-root\" id=\"71c97833-28e0-43d9-b6f4-b3bbb0d97337\" data-root-id=\"1124\"></div>\n",
       "</div>\n",
       "<script type=\"application/javascript\">(function(root) {\n",
       "  function embed_document(root) {\n",
       "    var docs_json = {\"b2f3833e-7ad6-4460-969a-1d727704a1cf\":{\"defs\":[{\"extends\":null,\"module\":null,\"name\":\"ReactiveHTML1\",\"overrides\":[],\"properties\":[]},{\"extends\":null,\"module\":null,\"name\":\"FlexBox1\",\"overrides\":[],\"properties\":[{\"default\":\"flex-start\",\"kind\":null,\"name\":\"align_content\"},{\"default\":\"flex-start\",\"kind\":null,\"name\":\"align_items\"},{\"default\":\"row\",\"kind\":null,\"name\":\"flex_direction\"},{\"default\":\"wrap\",\"kind\":null,\"name\":\"flex_wrap\"},{\"default\":\"flex-start\",\"kind\":null,\"name\":\"justify_content\"}]},{\"extends\":null,\"module\":null,\"name\":\"TemplateActions1\",\"overrides\":[],\"properties\":[{\"default\":0,\"kind\":null,\"name\":\"open_modal\"},{\"default\":0,\"kind\":null,\"name\":\"close_modal\"}]},{\"extends\":null,\"module\":null,\"name\":\"MaterialTemplateActions1\",\"overrides\":[],\"properties\":[{\"default\":0,\"kind\":null,\"name\":\"open_modal\"},{\"default\":0,\"kind\":null,\"name\":\"close_modal\"}]}],\"roots\":{\"references\":[{\"attributes\":{},\"id\":\"1160\",\"type\":\"BasicTickFormatter\"},{\"attributes\":{},\"id\":\"1181\",\"type\":\"UnionRenderers\"},{\"attributes\":{},\"id\":\"1163\",\"type\":\"BasicTickFormatter\"},{\"attributes\":{\"axis_label\":\"Annual Income\",\"formatter\":{\"id\":\"1160\"},\"major_label_policy\":{\"id\":\"1162\"},\"ticker\":{\"id\":\"1140\"}},\"id\":\"1139\",\"type\":\"LinearAxis\"},{\"attributes\":{},\"id\":\"1204\",\"type\":\"UnionRenderers\"},{\"attributes\":{\"end\":108.8,\"reset_end\":108.8,\"reset_start\":-8.8,\"start\":-8.8,\"tags\":[[[\"Spending Score (1-100)\",\"Spending Score (1-100)\",null]]]},\"id\":\"1127\",\"type\":\"Range1d\"},{\"attributes\":{\"fill_alpha\":{\"value\":0.2},\"fill_color\":{\"value\":\"#30a2da\"},\"line_alpha\":{\"value\":0.2},\"line_color\":{\"value\":\"#30a2da\"},\"size\":{\"value\":5.477225575051661},\"x\":{\"field\":\"Annual Income\"},\"y\":{\"field\":\"Spending Score (1-100)\"}},\"id\":\"1171\",\"type\":\"Scatter\"},{\"attributes\":{},\"id\":\"1151\",\"type\":\"ResetTool\"},{\"attributes\":{\"source\":{\"id\":\"1166\"}},\"id\":\"1173\",\"type\":\"CDSView\"},{\"attributes\":{\"end\":142.22857142857143,\"reset_end\":142.22857142857143,\"reset_start\":9.771428571428572,\"start\":9.771428571428572,\"tags\":[[[\"Annual Income\",\"Annual Income\",null]]]},\"id\":\"1126\",\"type\":\"Range1d\"},{\"attributes\":{\"data\":{\"Annual Income\":{\"__ndarray__\":\"AAAAAAAALkAAAAAAAAAwQAAAAAAAADFAAAAAAAAAMkAAAAAAAAAzQAAAAAAAADNAAAAAAAAANEAAAAAAAAA0QAAAAAAAADVAAAAAAAAAN0AAAAAAAAA4QAAAAAAAADlAAAAAAAAAPEAAAAAAAAA8QAAAAAAAAD1AAAAAAAAAPkAAAAAAAIBAQAAAAAAAgEBAAAAAAAAAQUAAAAAAAIBCQAAAAAAAAENAAAAAAACAQ0AAAAAAAIBDQAAAAAAAAERAAAAAAAAAREAAAAAAAABEQAAAAAAAAERAAAAAAAAARUAAAAAAAIBFQAAAAAAAgEVAAAAAAACARUAAAAAAAABGQAAAAAAAAEZAAAAAAAAAR0AAAAAAAABHQAAAAAAAgEdAAAAAAACAR0AAAAAAAABIQAAAAAAAAEhAAAAAAAAASEAAAAAAAABIQAAAAAAAgEhAAAAAAACASEAAAAAAAABJQAAAAAAAAElAAAAAAAAAS0AAAAAAAABLQAAAAAAAAEtAAAAAAAAAS0AAAAAAAABLQAAAAAAAAEtAAAAAAAAAS0AAAAAAAABLQAAAAAAAgExAAAAAAAAATUAAAAAAAIBNQAAAAAAAgE1AAAAAAAAATkAAAAAAAABOQAAAAAAAAE5AAAAAAAAATkAAAAAAAIBOQAAAAAAAAE9AAAAAAAAAT0AAAAAAAABPQAAAAAAAAE9AAAAAAAAAT0AAAAAAAIBPQAAAAAAAgE9AAAAAAACAT0AAAAAAAIBPQAAAAAAAgE9AAAAAAAAAUEAAAAAAAEBQQAAAAAAAwFBAAAAAAADAUEAAAAAAAMBQQAAAAAAAgFFAAAAAAADAUUAAAAAAAMBRQAAAAAAAwFFAAAAAAAAAUkAAAAAAAEBSQAAAAAAAQFJAAAAAAACAUkAAAAAAAMBSQAAAAAAAAFNAAAAAAABAU0AAAAAAAEBTQAAAAAAAgFNAAAAAAACAU0AAAAAAAIBTQAAAAAAAgFNAAAAAAACAU0AAAAAAAIBTQAAAAAAAwFNAAAAAAABAVEAAAAAAAEBVQAAAAAAAgFVAAAAAAADAVUAAAAAAAMBVQAAAAAAAwFVAAAAAAAAAVkAAAAAAAABWQAAAAAAAQFdAAAAAAABAWEAAAAAAAIBYQAAAAAAAwFhAAAAAAABAWUAAAAAAAMBZQAAAAAAAwFlAAAAAAABAXEAAAAAAAABeQAAAAAAAgF9AAAAAAAAgYUA=\",\"dtype\":\"float64\",\"order\":\"little\",\"shape\":[115]},\"Annual_Income\":{\"__ndarray__\":\"AAAAAAAALkAAAAAAAAAwQAAAAAAAADFAAAAAAAAAMkAAAAAAAAAzQAAAAAAAADNAAAAAAAAANEAAAAAAAAA0QAAAAAAAADVAAAAAAAAAN0AAAAAAAAA4QAAAAAAAADlAAAAAAAAAPEAAAAAAAAA8QAAAAAAAAD1AAAAAAAAAPkAAAAAAAIBAQAAAAAAAgEBAAAAAAAAAQUAAAAAAAIBCQAAAAAAAAENAAAAAAACAQ0AAAAAAAIBDQAAAAAAAAERAAAAAAAAAREAAAAAAAABEQAAAAAAAAERAAAAAAAAARUAAAAAAAIBFQAAAAAAAgEVAAAAAAACARUAAAAAAAABGQAAAAAAAAEZAAAAAAAAAR0AAAAAAAABHQAAAAAAAgEdAAAAAAACAR0AAAAAAAABIQAAAAAAAAEhAAAAAAAAASEAAAAAAAABIQAAAAAAAgEhAAAAAAACASEAAAAAAAABJQAAAAAAAAElAAAAAAAAAS0AAAAAAAABLQAAAAAAAAEtAAAAAAAAAS0AAAAAAAABLQAAAAAAAAEtAAAAAAAAAS0AAAAAAAABLQAAAAAAAgExAAAAAAAAATUAAAAAAAIBNQAAAAAAAgE1AAAAAAAAATkAAAAAAAABOQAAAAAAAAE5AAAAAAAAATkAAAAAAAIBOQAAAAAAAAE9AAAAAAAAAT0AAAAAAAABPQAAAAAAAAE9AAAAAAAAAT0AAAAAAAIBPQAAAAAAAgE9AAAAAAACAT0AAAAAAAIBPQAAAAAAAgE9AAAAAAAAAUEAAAAAAAEBQQAAAAAAAwFBAAAAAAADAUEAAAAAAAMBQQAAAAAAAgFFAAAAAAADAUUAAAAAAAMBRQAAAAAAAwFFAAAAAAAAAUkAAAAAAAEBSQAAAAAAAQFJAAAAAAACAUkAAAAAAAMBSQAAAAAAAAFNAAAAAAABAU0AAAAAAAEBTQAAAAAAAgFNAAAAAAACAU0AAAAAAAIBTQAAAAAAAgFNAAAAAAACAU0AAAAAAAIBTQAAAAAAAwFNAAAAAAABAVEAAAAAAAEBVQAAAAAAAgFVAAAAAAADAVUAAAAAAAMBVQAAAAAAAwFVAAAAAAAAAVkAAAAAAAABWQAAAAAAAQFdAAAAAAABAWEAAAAAAAIBYQAAAAAAAwFhAAAAAAABAWUAAAAAAAMBZQAAAAAAAwFlAAAAAAABAXEAAAAAAAABeQAAAAAAAgF9AAAAAAAAgYUA=\",\"dtype\":\"float64\",\"order\":\"little\",\"shape\":[115]},\"Spending Score (1-100)\":{\"__ndarray__\":\"AAAAAACAQ0AAAAAAAAAYQAAAAAAAAERAAAAAAAAAGEAAAAAAAAAIQAAAAAAAACxAAAAAAAAALkAAAAAAAAAqQAAAAAAAgEFAAAAAAAAAPUAAAAAAAIBBQAAAAAAAABRAAAAAAAAALEAAAAAAAABAQAAAAAAAAD9AAAAAAAAAEEAAAAAAAAAQQAAAAAAAACxAAAAAAAAAMUAAAAAAAAA6QAAAAAAAgEFAAAAAAAAAQkAAAAAAAAA8QAAAAAAAgEtAAAAAAACAR0AAAAAAAABFQAAAAAAAAEVAAAAAAAAASkAAAAAAAABOQAAAAAAAgEZAAAAAAACAREAAAAAAAABJQAAAAAAAAEdAAAAAAAAAR0AAAAAAAABMQAAAAAAAAEpAAAAAAACATUAAAAAAAIBJQAAAAAAAAElAAAAAAAAASEAAAAAAAIBHQAAAAAAAgEtAAAAAAAAARUAAAAAAAIBIQAAAAAAAAExAAAAAAACAR0AAAAAAAIBKQAAAAAAAAEhAAAAAAAAARUAAAAAAAIBJQAAAAAAAgERAAAAAAAAARkAAAAAAAABHQAAAAAAAAE1AAAAAAAAAR0AAAAAAAIBLQAAAAAAAgERAAAAAAACASEAAAAAAAABEQAAAAAAAAEVAAAAAAACAR0AAAAAAAABFQAAAAAAAgERAAAAAAAAASEAAAAAAAIBNQAAAAAAAAExAAAAAAAAARUAAAAAAAABJQAAAAAAAAEdAAAAAAACARUAAAAAAAABIQAAAAAAAAEpAAAAAAAAARUAAAAAAAIBFQAAAAAAAgEVAAAAAAACATEAAAAAAAABEQAAAAAAAAD1AAAAAAACAQUAAAAAAAAAmQAAAAAAAACJAAAAAAAAAQUAAAAAAAAAUQAAAAAAAABxAAAAAAAAAJEAAAAAAAAAUQAAAAAAAAERAAAAAAAAAKEAAAAAAAABCQAAAAAAAADZAAAAAAAAAMUAAAAAAAAA0QAAAAAAAADBAAAAAAAAA8D8AAAAAAADwPwAAAAAAgEFAAAAAAAAAFEAAAAAAAAA6QAAAAAAAADRAAAAAAAAAO0AAAAAAAAAqQAAAAAAAACRAAAAAAAAAKkAAAAAAAAAuQAAAAAAAACxAAAAAAAAAQEAAAAAAAAAuQAAAAAAAgENAAAAAAAAAOEAAAAAAAAAxQAAAAAAAADdAAAAAAAAAIEAAAAAAAAAwQAAAAAAAADxAAAAAAAAAMkA=\",\"dtype\":\"float64\",\"order\":\"little\",\"shape\":[115]},\"Spending_Score_left_parenthesis_1_hyphen_minus_100_right_parenthesis\":{\"__ndarray__\":\"AAAAAACAQ0AAAAAAAAAYQAAAAAAAAERAAAAAAAAAGEAAAAAAAAAIQAAAAAAAACxAAAAAAAAALkAAAAAAAAAqQAAAAAAAgEFAAAAAAAAAPUAAAAAAAIBBQAAAAAAAABRAAAAAAAAALEAAAAAAAABAQAAAAAAAAD9AAAAAAAAAEEAAAAAAAAAQQAAAAAAAACxAAAAAAAAAMUAAAAAAAAA6QAAAAAAAgEFAAAAAAAAAQkAAAAAAAAA8QAAAAAAAgEtAAAAAAACAR0AAAAAAAABFQAAAAAAAAEVAAAAAAAAASkAAAAAAAABOQAAAAAAAgEZAAAAAAACAREAAAAAAAABJQAAAAAAAAEdAAAAAAAAAR0AAAAAAAABMQAAAAAAAAEpAAAAAAACATUAAAAAAAIBJQAAAAAAAAElAAAAAAAAASEAAAAAAAIBHQAAAAAAAgEtAAAAAAAAARUAAAAAAAIBIQAAAAAAAAExAAAAAAACAR0AAAAAAAIBKQAAAAAAAAEhAAAAAAAAARUAAAAAAAIBJQAAAAAAAgERAAAAAAAAARkAAAAAAAABHQAAAAAAAAE1AAAAAAAAAR0AAAAAAAIBLQAAAAAAAgERAAAAAAACASEAAAAAAAABEQAAAAAAAAEVAAAAAAACAR0AAAAAAAABFQAAAAAAAgERAAAAAAAAASEAAAAAAAIBNQAAAAAAAAExAAAAAAAAARUAAAAAAAABJQAAAAAAAAEdAAAAAAACARUAAAAAAAABIQAAAAAAAAEpAAAAAAAAARUAAAAAAAIBFQAAAAAAAgEVAAAAAAACATEAAAAAAAABEQAAAAAAAAD1AAAAAAACAQUAAAAAAAAAmQAAAAAAAACJAAAAAAAAAQUAAAAAAAAAUQAAAAAAAABxAAAAAAAAAJEAAAAAAAAAUQAAAAAAAAERAAAAAAAAAKEAAAAAAAABCQAAAAAAAADZAAAAAAAAAMUAAAAAAAAA0QAAAAAAAADBAAAAAAAAA8D8AAAAAAADwPwAAAAAAgEFAAAAAAAAAFEAAAAAAAAA6QAAAAAAAADRAAAAAAAAAO0AAAAAAAAAqQAAAAAAAACRAAAAAAAAAKkAAAAAAAAAuQAAAAAAAACxAAAAAAAAAQEAAAAAAAAAuQAAAAAAAgENAAAAAAAAAOEAAAAAAAAAxQAAAAAAAADdAAAAAAAAAIEAAAAAAAAAwQAAAAAAAADxAAAAAAAAAMkA=\",\"dtype\":\"float64\",\"order\":\"little\",\"shape\":[115]},\"class\":[1,1,1,1,1,1,1,1,1,1,1,1,1,1,1,1,1,1,1,1,1,1,1,1,1,1,1,1,1,1,1,1,1,1,1,1,1,1,1,1,1,1,1,1,1,1,1,1,1,1,1,1,1,1,1,1,1,1,1,1,1,1,1,1,1,1,1,1,1,1,1,1,1,1,1,1,1,1,1,1,1,1,1,1,1,1,1,1,1,1,1,1,1,1,1,1,1,1,1,1,1,1,1,1,1,1,1,1,1,1,1,1,1,1,1]},\"selected\":{\"id\":\"1188\"},\"selection_policy\":{\"id\":\"1204\"}},\"id\":\"1187\",\"type\":\"ColumnDataSource\"},{\"attributes\":{\"source\":{\"id\":\"1187\"}},\"id\":\"1194\",\"type\":\"CDSView\"},{\"attributes\":{},\"id\":\"1140\",\"type\":\"BasicTicker\"},{\"attributes\":{\"margin\":[5,5,5,5],\"name\":\"HSpacer01848\",\"sizing_mode\":\"stretch_width\"},\"id\":\"1125\",\"type\":\"Spacer\"},{\"attributes\":{},\"id\":\"1137\",\"type\":\"LinearScale\"},{\"attributes\":{},\"id\":\"1135\",\"type\":\"LinearScale\"},{\"attributes\":{\"angle\":{\"value\":0.0},\"fill_alpha\":{\"value\":1.0},\"fill_color\":{\"value\":\"#30a2da\"},\"hatch_alpha\":{\"value\":1.0},\"hatch_color\":{\"value\":\"black\"},\"hatch_scale\":{\"value\":12.0},\"hatch_weight\":{\"value\":1.0},\"line_alpha\":{\"value\":1.0},\"line_cap\":{\"value\":\"butt\"},\"line_color\":{\"value\":\"#30a2da\"},\"line_dash\":{\"value\":[]},\"line_dash_offset\":{\"value\":0},\"line_join\":{\"value\":\"bevel\"},\"line_width\":{\"value\":1},\"marker\":{\"value\":\"circle\"},\"size\":{\"value\":5.477225575051661},\"x\":{\"field\":\"Annual Income\"},\"y\":{\"field\":\"Spending Score (1-100)\"}},\"id\":\"1186\",\"type\":\"Scatter\"},{\"attributes\":{\"below\":[{\"id\":\"1139\"}],\"center\":[{\"id\":\"1142\"},{\"id\":\"1146\"}],\"height\":300,\"left\":[{\"id\":\"1143\"}],\"margin\":[5,5,5,5],\"min_border_bottom\":10,\"min_border_left\":10,\"min_border_right\":10,\"min_border_top\":10,\"renderers\":[{\"id\":\"1172\"},{\"id\":\"1193\"}],\"right\":[{\"id\":\"1184\"}],\"sizing_mode\":\"fixed\",\"title\":{\"id\":\"1131\"},\"toolbar\":{\"id\":\"1153\"},\"width\":700,\"x_range\":{\"id\":\"1126\"},\"x_scale\":{\"id\":\"1135\"},\"y_range\":{\"id\":\"1127\"},\"y_scale\":{\"id\":\"1137\"}},\"id\":\"1130\",\"subtype\":\"Figure\",\"type\":\"Plot\"},{\"attributes\":{\"axis\":{\"id\":\"1139\"},\"grid_line_color\":null,\"ticker\":null},\"id\":\"1142\",\"type\":\"Grid\"},{\"attributes\":{\"label\":{\"value\":\"1\"},\"renderers\":[{\"id\":\"1193\"}]},\"id\":\"1207\",\"type\":\"LegendItem\"},{\"attributes\":{},\"id\":\"1188\",\"type\":\"Selection\"},{\"attributes\":{},\"id\":\"1144\",\"type\":\"BasicTicker\"},{\"attributes\":{\"children\":[{\"id\":\"1125\"},{\"id\":\"1130\"},{\"id\":\"1317\"}],\"margin\":[0,0,0,0],\"name\":\"Row01844\",\"tags\":[\"embedded\"]},\"id\":\"1124\",\"type\":\"Row\"},{\"attributes\":{\"axis_label\":\"Spending Score (1-100)\",\"formatter\":{\"id\":\"1163\"},\"major_label_policy\":{\"id\":\"1165\"},\"ticker\":{\"id\":\"1144\"}},\"id\":\"1143\",\"type\":\"LinearAxis\"},{\"attributes\":{\"angle\":{\"value\":0.0},\"fill_alpha\":{\"value\":1.0},\"fill_color\":{\"value\":\"#fc4f30\"},\"hatch_alpha\":{\"value\":1.0},\"hatch_color\":{\"value\":\"black\"},\"hatch_scale\":{\"value\":12.0},\"hatch_weight\":{\"value\":1.0},\"line_alpha\":{\"value\":1.0},\"line_cap\":{\"value\":\"butt\"},\"line_color\":{\"value\":\"#fc4f30\"},\"line_dash\":{\"value\":[]},\"line_dash_offset\":{\"value\":0},\"line_join\":{\"value\":\"bevel\"},\"line_width\":{\"value\":1},\"marker\":{\"value\":\"circle\"},\"size\":{\"value\":5.477225575051661},\"x\":{\"field\":\"Annual Income\"},\"y\":{\"field\":\"Spending Score (1-100)\"}},\"id\":\"1208\",\"type\":\"Scatter\"},{\"attributes\":{\"fill_alpha\":{\"value\":0.2},\"fill_color\":{\"value\":\"#fc4f30\"},\"line_alpha\":{\"value\":0.2},\"line_color\":{\"value\":\"#fc4f30\"},\"size\":{\"value\":5.477225575051661},\"x\":{\"field\":\"Annual Income\"},\"y\":{\"field\":\"Spending Score (1-100)\"}},\"id\":\"1192\",\"type\":\"Scatter\"},{\"attributes\":{},\"id\":\"1165\",\"type\":\"AllLabels\"},{\"attributes\":{},\"id\":\"1167\",\"type\":\"Selection\"},{\"attributes\":{\"bottom_units\":\"screen\",\"fill_alpha\":0.5,\"fill_color\":\"lightgrey\",\"left_units\":\"screen\",\"level\":\"overlay\",\"line_alpha\":1.0,\"line_color\":\"black\",\"line_dash\":[4,4],\"line_width\":2,\"right_units\":\"screen\",\"syncable\":false,\"top_units\":\"screen\"},\"id\":\"1152\",\"type\":\"BoxAnnotation\"},{\"attributes\":{\"fill_alpha\":{\"value\":0.1},\"fill_color\":{\"value\":\"#fc4f30\"},\"line_alpha\":{\"value\":0.1},\"line_color\":{\"value\":\"#fc4f30\"},\"size\":{\"value\":5.477225575051661},\"x\":{\"field\":\"Annual Income\"},\"y\":{\"field\":\"Spending Score (1-100)\"}},\"id\":\"1191\",\"type\":\"Scatter\"},{\"attributes\":{\"axis\":{\"id\":\"1143\"},\"dimension\":1,\"grid_line_color\":null,\"ticker\":null},\"id\":\"1146\",\"type\":\"Grid\"},{\"attributes\":{\"active_multi\":null,\"tools\":[{\"id\":\"1128\"},{\"id\":\"1147\"},{\"id\":\"1148\"},{\"id\":\"1149\"},{\"id\":\"1150\"},{\"id\":\"1151\"}]},\"id\":\"1153\",\"type\":\"Toolbar\"},{\"attributes\":{\"fill_color\":{\"value\":\"#30a2da\"},\"line_color\":{\"value\":\"#30a2da\"},\"size\":{\"value\":5.477225575051661},\"x\":{\"field\":\"Annual Income\"},\"y\":{\"field\":\"Spending Score (1-100)\"}},\"id\":\"1169\",\"type\":\"Scatter\"},{\"attributes\":{},\"id\":\"1162\",\"type\":\"AllLabels\"},{\"attributes\":{\"margin\":[5,5,5,5],\"name\":\"HSpacer01849\",\"sizing_mode\":\"stretch_width\"},\"id\":\"1317\",\"type\":\"Spacer\"},{\"attributes\":{},\"id\":\"1147\",\"type\":\"SaveTool\"},{\"attributes\":{\"data_source\":{\"id\":\"1166\"},\"glyph\":{\"id\":\"1169\"},\"hover_glyph\":null,\"muted_glyph\":{\"id\":\"1171\"},\"nonselection_glyph\":{\"id\":\"1170\"},\"selection_glyph\":{\"id\":\"1186\"},\"view\":{\"id\":\"1173\"}},\"id\":\"1172\",\"type\":\"GlyphRenderer\"},{\"attributes\":{\"callback\":null,\"renderers\":[{\"id\":\"1172\"},{\"id\":\"1193\"}],\"tags\":[\"hv_created\"],\"tooltips\":[[\"class\",\"@{class}\"],[\"Annual Income\",\"@{Annual_Income}\"],[\"Spending Score (1-100)\",\"@{Spending_Score_left_parenthesis_1_hyphen_minus_100_right_parenthesis}\"]]},\"id\":\"1128\",\"type\":\"HoverTool\"},{\"attributes\":{\"data_source\":{\"id\":\"1187\"},\"glyph\":{\"id\":\"1190\"},\"hover_glyph\":null,\"muted_glyph\":{\"id\":\"1192\"},\"nonselection_glyph\":{\"id\":\"1191\"},\"selection_glyph\":{\"id\":\"1208\"},\"view\":{\"id\":\"1194\"}},\"id\":\"1193\",\"type\":\"GlyphRenderer\"},{\"attributes\":{},\"id\":\"1148\",\"type\":\"PanTool\"},{\"attributes\":{\"fill_alpha\":{\"value\":0.1},\"fill_color\":{\"value\":\"#30a2da\"},\"line_alpha\":{\"value\":0.1},\"line_color\":{\"value\":\"#30a2da\"},\"size\":{\"value\":5.477225575051661},\"x\":{\"field\":\"Annual Income\"},\"y\":{\"field\":\"Spending Score (1-100)\"}},\"id\":\"1170\",\"type\":\"Scatter\"},{\"attributes\":{\"text_color\":\"black\",\"text_font_size\":\"12pt\"},\"id\":\"1131\",\"type\":\"Title\"},{\"attributes\":{\"data\":{\"Annual Income\":{\"__ndarray__\":\"AAAAAAAALkAAAAAAAAAwQAAAAAAAADFAAAAAAAAAMkAAAAAAAAAzQAAAAAAAADNAAAAAAAAANEAAAAAAAAA0QAAAAAAAADVAAAAAAAAAN0AAAAAAAAA4QAAAAAAAADlAAAAAAAAAPEAAAAAAAAA8QAAAAAAAAD1AAAAAAAAAPkAAAAAAAIBAQAAAAAAAgEBAAAAAAAAAQUAAAAAAAIBCQAAAAAAAAENAAAAAAACAQ0AAAAAAAIBDQAAAAAAAAEVAAAAAAACARUAAAAAAAABHQAAAAAAAAEdAAAAAAAAASEAAAAAAAABIQAAAAAAAAEtAAAAAAAAAS0AAAAAAAABLQAAAAAAAAEtAAAAAAACATEAAAAAAAABNQAAAAAAAAE5AAAAAAAAATkAAAAAAAIBOQAAAAAAAAE9AAAAAAACAT0AAAAAAAABQQAAAAAAAQFBAAAAAAABAUEAAAAAAAEBQQAAAAAAAwFBAAAAAAABAUUAAAAAAAEBRQAAAAAAAgFFAAAAAAADAUUAAAAAAAMBRQAAAAAAAwFFAAAAAAAAAUkAAAAAAAEBSQAAAAAAAQFJAAAAAAACAUkAAAAAAAMBSQAAAAAAAAFNAAAAAAABAU0AAAAAAAEBTQAAAAAAAgFNAAAAAAACAU0AAAAAAAIBTQAAAAAAAgFNAAAAAAACAU0AAAAAAAIBTQAAAAAAAwFNAAAAAAABAVEAAAAAAAEBVQAAAAAAAgFVAAAAAAADAVUAAAAAAAMBVQAAAAAAAwFVAAAAAAAAAVkAAAAAAAABWQAAAAAAAQFdAAAAAAABAWEAAAAAAAIBYQAAAAAAAwFhAAAAAAABAWUAAAAAAAMBZQAAAAAAAwFlAAAAAAABAXEAAAAAAAABeQAAAAAAAgF9AAAAAAAAgYUA=\",\"dtype\":\"float64\",\"order\":\"little\",\"shape\":[85]},\"Annual_Income\":{\"__ndarray__\":\"AAAAAAAALkAAAAAAAAAwQAAAAAAAADFAAAAAAAAAMkAAAAAAAAAzQAAAAAAAADNAAAAAAAAANEAAAAAAAAA0QAAAAAAAADVAAAAAAAAAN0AAAAAAAAA4QAAAAAAAADlAAAAAAAAAPEAAAAAAAAA8QAAAAAAAAD1AAAAAAAAAPkAAAAAAAIBAQAAAAAAAgEBAAAAAAAAAQUAAAAAAAIBCQAAAAAAAAENAAAAAAACAQ0AAAAAAAIBDQAAAAAAAAEVAAAAAAACARUAAAAAAAABHQAAAAAAAAEdAAAAAAAAASEAAAAAAAABIQAAAAAAAAEtAAAAAAAAAS0AAAAAAAABLQAAAAAAAAEtAAAAAAACATEAAAAAAAABNQAAAAAAAAE5AAAAAAAAATkAAAAAAAIBOQAAAAAAAAE9AAAAAAACAT0AAAAAAAABQQAAAAAAAQFBAAAAAAABAUEAAAAAAAEBQQAAAAAAAwFBAAAAAAABAUUAAAAAAAEBRQAAAAAAAgFFAAAAAAADAUUAAAAAAAMBRQAAAAAAAwFFAAAAAAAAAUkAAAAAAAEBSQAAAAAAAQFJAAAAAAACAUkAAAAAAAMBSQAAAAAAAAFNAAAAAAABAU0AAAAAAAEBTQAAAAAAAgFNAAAAAAACAU0AAAAAAAIBTQAAAAAAAgFNAAAAAAACAU0AAAAAAAIBTQAAAAAAAwFNAAAAAAABAVEAAAAAAAEBVQAAAAAAAgFVAAAAAAADAVUAAAAAAAMBVQAAAAAAAwFVAAAAAAAAAVkAAAAAAAABWQAAAAAAAQFdAAAAAAABAWEAAAAAAAIBYQAAAAAAAwFhAAAAAAABAWUAAAAAAAMBZQAAAAAAAwFlAAAAAAABAXEAAAAAAAABeQAAAAAAAgF9AAAAAAAAgYUA=\",\"dtype\":\"float64\",\"order\":\"little\",\"shape\":[85]},\"Spending Score (1-100)\":{\"__ndarray__\":\"AAAAAABAVEAAAAAAAEBTQAAAAAAAAFNAAAAAAACAV0AAAAAAAABSQAAAAAAAwFhAAAAAAABAU0AAAAAAAMBTQAAAAAAAgFBAAAAAAACAWEAAAAAAAEBSQAAAAAAAQFJAAAAAAACAVEAAAAAAAIBOQAAAAAAAwFVAAAAAAABAUkAAAAAAAABXQAAAAAAAQFRAAAAAAABAUkAAAAAAAMBSQAAAAAAAAFdAAAAAAACATkAAAAAAAEBQQAAAAAAAAE5AAAAAAAAAS0AAAAAAAIBJQAAAAAAAgEtAAAAAAACATUAAAAAAAIBNQAAAAAAAAEtAAAAAAAAASkAAAAAAAIBLQAAAAAAAgExAAAAAAACAS0AAAAAAAABOQAAAAAAAAEpAAAAAAAAASUAAAAAAAIBIQAAAAAAAgEtAAAAAAAAAS0AAAAAAAABHQAAAAAAAAEhAAAAAAAAASUAAAAAAAIBNQAAAAAAAAExAAAAAAAAATUAAAAAAAMBWQAAAAAAAQFNAAAAAAADAV0AAAAAAAMBSQAAAAAAAwFJAAAAAAADAUUAAAAAAAABWQAAAAAAAQFJAAAAAAAAAUkAAAAAAAEBXQAAAAAAAwFVAAAAAAABAWEAAAAAAAIBSQAAAAAAAgFZAAAAAAAAAVkAAAAAAAABTQAAAAAAAQFZAAAAAAACAU0AAAAAAAEBSQAAAAAAAwFRAAAAAAABAV0AAAAAAAMBSQAAAAAAAwFdAAAAAAACAT0AAAAAAAMBSQAAAAAAAAFdAAAAAAACAVUAAAAAAAEBRQAAAAAAAgFZAAAAAAACAVUAAAAAAAABWQAAAAAAAQFhAAAAAAAAAUUAAAAAAAEBVQAAAAAAAQFFAAAAAAADAVkAAAAAAAMBTQAAAAAAAgFJAAAAAAADAVEA=\",\"dtype\":\"float64\",\"order\":\"little\",\"shape\":[85]},\"Spending_Score_left_parenthesis_1_hyphen_minus_100_right_parenthesis\":{\"__ndarray__\":\"AAAAAABAVEAAAAAAAEBTQAAAAAAAAFNAAAAAAACAV0AAAAAAAABSQAAAAAAAwFhAAAAAAABAU0AAAAAAAMBTQAAAAAAAgFBAAAAAAACAWEAAAAAAAEBSQAAAAAAAQFJAAAAAAACAVEAAAAAAAIBOQAAAAAAAwFVAAAAAAABAUkAAAAAAAABXQAAAAAAAQFRAAAAAAABAUkAAAAAAAMBSQAAAAAAAAFdAAAAAAACATkAAAAAAAEBQQAAAAAAAAE5AAAAAAAAAS0AAAAAAAIBJQAAAAAAAgEtAAAAAAACATUAAAAAAAIBNQAAAAAAAAEtAAAAAAAAASkAAAAAAAIBLQAAAAAAAgExAAAAAAACAS0AAAAAAAABOQAAAAAAAAEpAAAAAAAAASUAAAAAAAIBIQAAAAAAAgEtAAAAAAAAAS0AAAAAAAABHQAAAAAAAAEhAAAAAAAAASUAAAAAAAIBNQAAAAAAAAExAAAAAAAAATUAAAAAAAMBWQAAAAAAAQFNAAAAAAADAV0AAAAAAAMBSQAAAAAAAwFJAAAAAAADAUUAAAAAAAABWQAAAAAAAQFJAAAAAAAAAUkAAAAAAAEBXQAAAAAAAwFVAAAAAAABAWEAAAAAAAIBSQAAAAAAAgFZAAAAAAAAAVkAAAAAAAABTQAAAAAAAQFZAAAAAAACAU0AAAAAAAEBSQAAAAAAAwFRAAAAAAABAV0AAAAAAAMBSQAAAAAAAwFdAAAAAAACAT0AAAAAAAMBSQAAAAAAAAFdAAAAAAACAVUAAAAAAAEBRQAAAAAAAgFZAAAAAAACAVUAAAAAAAABWQAAAAAAAQFhAAAAAAAAAUUAAAAAAAEBVQAAAAAAAQFFAAAAAAADAVkAAAAAAAMBTQAAAAAAAgFJAAAAAAADAVEA=\",\"dtype\":\"float64\",\"order\":\"little\",\"shape\":[85]},\"class\":[0,0,0,0,0,0,0,0,0,0,0,0,0,0,0,0,0,0,0,0,0,0,0,0,0,0,0,0,0,0,0,0,0,0,0,0,0,0,0,0,0,0,0,0,0,0,0,0,0,0,0,0,0,0,0,0,0,0,0,0,0,0,0,0,0,0,0,0,0,0,0,0,0,0,0,0,0,0,0,0,0,0,0,0,0]},\"selected\":{\"id\":\"1167\"},\"selection_policy\":{\"id\":\"1181\"}},\"id\":\"1166\",\"type\":\"ColumnDataSource\"},{\"attributes\":{\"label\":{\"value\":\"0\"},\"renderers\":[{\"id\":\"1172\"}]},\"id\":\"1185\",\"type\":\"LegendItem\"},{\"attributes\":{},\"id\":\"1149\",\"type\":\"WheelZoomTool\"},{\"attributes\":{\"click_policy\":\"mute\",\"items\":[{\"id\":\"1185\"},{\"id\":\"1207\"}],\"location\":[0,0],\"title\":\"class\"},\"id\":\"1184\",\"type\":\"Legend\"},{\"attributes\":{\"fill_color\":{\"value\":\"#fc4f30\"},\"line_color\":{\"value\":\"#fc4f30\"},\"size\":{\"value\":5.477225575051661},\"x\":{\"field\":\"Annual Income\"},\"y\":{\"field\":\"Spending Score (1-100)\"}},\"id\":\"1190\",\"type\":\"Scatter\"},{\"attributes\":{\"overlay\":{\"id\":\"1152\"}},\"id\":\"1150\",\"type\":\"BoxZoomTool\"}],\"root_ids\":[\"1124\"]},\"title\":\"Bokeh Application\",\"version\":\"2.3.2\"}};\n",
       "    var render_items = [{\"docid\":\"b2f3833e-7ad6-4460-969a-1d727704a1cf\",\"root_ids\":[\"1124\"],\"roots\":{\"1124\":\"71c97833-28e0-43d9-b6f4-b3bbb0d97337\"}}];\n",
       "    root.Bokeh.embed.embed_items_notebook(docs_json, render_items);\n",
       "  }\n",
       "  if (root.Bokeh !== undefined && root.Bokeh.Panel !== undefined) {\n",
       "    embed_document(root);\n",
       "  } else {\n",
       "    var attempts = 0;\n",
       "    var timer = setInterval(function(root) {\n",
       "      if (root.Bokeh !== undefined && root.Bokeh.Panel !== undefined) {\n",
       "        clearInterval(timer);\n",
       "        embed_document(root);\n",
       "      } else if (document.readyState == \"complete\") {\n",
       "        attempts++;\n",
       "        if (attempts > 200) {\n",
       "          clearInterval(timer);\n",
       "          console.log(\"Bokeh: ERROR: Unable to run BokehJS code because BokehJS library is missing\");\n",
       "        }\n",
       "      }\n",
       "    }, 25, root)\n",
       "  }\n",
       "})(window);</script>"
      ],
      "text/plain": [
       ":NdOverlay   [class]\n",
       "   :Scatter   [Annual Income]   (Spending Score (1-100))"
      ]
     },
     "execution_count": 6,
     "metadata": {
      "application/vnd.holoviews_exec.v0+json": {
       "id": "1124"
      }
     },
     "output_type": "execute_result"
    }
   ],
   "source": [
    "test_cluster_amount(shopping_df, 2)\n",
    "shopping_df.hvplot.scatter(x=\"Annual Income\", y=\"Spending Score (1-100)\", by=\"class\")"
   ]
  },
  {
   "cell_type": "code",
   "execution_count": 7,
   "metadata": {},
   "outputs": [
    {
     "data": {
      "application/vnd.plotly.v1+json": {
       "config": {
        "plotlyServerURL": "https://plot.ly"
       },
       "data": [
        {
         "hovertemplate": "class=%{marker.color}<br>Annual Income=%{x}<br>Spending Score (1-100)=%{y}<br>Age=%{z}<extra></extra>",
         "legendgroup": "1",
         "marker": {
          "color": [
           1,
           1,
           1,
           1,
           1,
           1,
           1,
           1,
           1,
           1,
           1,
           1,
           1,
           1,
           1,
           1,
           1,
           1,
           1,
           1,
           1,
           1,
           1,
           1,
           1,
           1,
           1,
           1,
           1,
           1,
           1,
           1,
           1,
           1,
           1,
           1,
           1,
           1,
           1,
           1,
           1,
           1,
           1,
           1,
           1,
           1,
           1,
           1,
           1,
           1,
           1,
           1,
           1,
           1,
           1,
           1,
           1,
           1,
           1,
           1,
           1,
           1,
           1,
           1,
           1,
           1,
           1,
           1,
           1,
           1,
           1,
           1,
           1,
           1,
           1,
           1,
           1,
           1,
           1,
           1,
           1,
           1,
           1,
           1,
           1,
           1,
           1,
           1,
           1,
           1,
           1,
           1,
           1,
           1,
           1,
           1,
           1,
           1,
           1,
           1,
           1,
           1,
           1,
           1,
           1,
           1,
           1,
           1,
           1,
           1,
           1,
           1,
           1,
           1,
           1
          ],
          "coloraxis": "coloraxis",
          "symbol": "circle"
         },
         "mode": "markers",
         "name": "1",
         "scene": "scene",
         "showlegend": true,
         "type": "scatter3d",
         "x": [
          15,
          16,
          17,
          18,
          19,
          19,
          20,
          20,
          21,
          23,
          24,
          25,
          28,
          28,
          29,
          30,
          33,
          33,
          34,
          37,
          38,
          39,
          39,
          40,
          40,
          40,
          40,
          42,
          43,
          43,
          43,
          44,
          44,
          46,
          46,
          47,
          47,
          48,
          48,
          48,
          48,
          49,
          49,
          50,
          50,
          54,
          54,
          54,
          54,
          54,
          54,
          54,
          54,
          57,
          58,
          59,
          59,
          60,
          60,
          60,
          60,
          61,
          62,
          62,
          62,
          62,
          62,
          63,
          63,
          63,
          63,
          63,
          64,
          65,
          67,
          67,
          67,
          70,
          71,
          71,
          71,
          72,
          73,
          73,
          74,
          75,
          76,
          77,
          77,
          78,
          78,
          78,
          78,
          78,
          78,
          79,
          81,
          85,
          86,
          87,
          87,
          87,
          88,
          88,
          93,
          97,
          98,
          99,
          101,
          103,
          103,
          113,
          120,
          126,
          137
         ],
         "y": [
          39,
          6,
          40,
          6,
          3,
          14,
          15,
          13,
          35,
          29,
          35,
          5,
          14,
          32,
          31,
          4,
          4,
          14,
          17,
          26,
          35,
          36,
          28,
          55,
          47,
          42,
          42,
          52,
          60,
          45,
          41,
          50,
          46,
          46,
          56,
          52,
          59,
          51,
          50,
          48,
          47,
          55,
          42,
          49,
          56,
          47,
          53,
          48,
          42,
          51,
          41,
          44,
          46,
          58,
          46,
          55,
          41,
          49,
          40,
          42,
          47,
          42,
          41,
          48,
          59,
          56,
          42,
          50,
          46,
          43,
          48,
          52,
          42,
          43,
          43,
          57,
          40,
          29,
          35,
          11,
          9,
          34,
          5,
          7,
          10,
          5,
          40,
          12,
          36,
          22,
          17,
          20,
          16,
          1,
          1,
          35,
          5,
          26,
          20,
          27,
          13,
          10,
          13,
          15,
          14,
          32,
          15,
          39,
          24,
          17,
          23,
          8,
          16,
          28,
          18
         ],
         "z": [
          19,
          20,
          31,
          35,
          64,
          67,
          58,
          37,
          35,
          52,
          35,
          46,
          54,
          45,
          40,
          60,
          53,
          49,
          42,
          36,
          65,
          48,
          49,
          50,
          27,
          29,
          31,
          49,
          59,
          50,
          47,
          51,
          69,
          53,
          70,
          67,
          54,
          63,
          43,
          68,
          32,
          70,
          47,
          60,
          60,
          59,
          45,
          40,
          49,
          57,
          67,
          46,
          48,
          55,
          50,
          68,
          18,
          48,
          40,
          32,
          47,
          48,
          23,
          49,
          67,
          49,
          21,
          66,
          54,
          68,
          66,
          65,
          38,
          63,
          51,
          50,
          38,
          23,
          43,
          59,
          47,
          25,
          20,
          44,
          19,
          57,
          28,
          25,
          48,
          34,
          43,
          44,
          47,
          37,
          34,
          56,
          19,
          50,
          42,
          36,
          40,
          36,
          52,
          58,
          59,
          37,
          46,
          41,
          54,
          41,
          34,
          33,
          47,
          45,
          32
         ]
        },
        {
         "hovertemplate": "class=%{marker.color}<br>Annual Income=%{x}<br>Spending Score (1-100)=%{y}<br>Age=%{z}<extra></extra>",
         "legendgroup": "0",
         "marker": {
          "color": [
           0,
           0,
           0,
           0,
           0,
           0,
           0,
           0,
           0,
           0,
           0,
           0,
           0,
           0,
           0,
           0,
           0,
           0,
           0,
           0,
           0,
           0,
           0,
           0,
           0,
           0,
           0,
           0,
           0,
           0,
           0,
           0,
           0,
           0,
           0,
           0,
           0,
           0,
           0,
           0,
           0,
           0,
           0,
           0,
           0,
           0,
           0,
           0,
           0,
           0,
           0,
           0,
           0,
           0,
           0,
           0,
           0,
           0,
           0,
           0,
           0,
           0,
           0,
           0,
           0,
           0,
           0,
           0,
           0,
           0,
           0,
           0,
           0,
           0,
           0,
           0,
           0,
           0,
           0,
           0,
           0,
           0,
           0,
           0,
           0
          ],
          "coloraxis": "coloraxis",
          "symbol": "diamond"
         },
         "mode": "markers",
         "name": "0",
         "scene": "scene",
         "showlegend": true,
         "type": "scatter3d",
         "x": [
          15,
          16,
          17,
          18,
          19,
          19,
          20,
          20,
          21,
          23,
          24,
          25,
          28,
          28,
          29,
          30,
          33,
          33,
          34,
          37,
          38,
          39,
          39,
          42,
          43,
          46,
          46,
          48,
          48,
          54,
          54,
          54,
          54,
          57,
          58,
          60,
          60,
          61,
          62,
          63,
          64,
          65,
          65,
          65,
          67,
          69,
          69,
          70,
          71,
          71,
          71,
          72,
          73,
          73,
          74,
          75,
          76,
          77,
          77,
          78,
          78,
          78,
          78,
          78,
          78,
          79,
          81,
          85,
          86,
          87,
          87,
          87,
          88,
          88,
          93,
          97,
          98,
          99,
          101,
          103,
          103,
          113,
          120,
          126,
          137
         ],
         "y": [
          81,
          77,
          76,
          94,
          72,
          99,
          77,
          79,
          66,
          98,
          73,
          73,
          82,
          61,
          87,
          73,
          92,
          81,
          73,
          75,
          92,
          61,
          65,
          60,
          54,
          51,
          55,
          59,
          59,
          54,
          52,
          55,
          57,
          55,
          60,
          52,
          50,
          49,
          55,
          54,
          46,
          48,
          50,
          59,
          56,
          58,
          91,
          77,
          95,
          75,
          75,
          71,
          88,
          73,
          72,
          93,
          87,
          97,
          74,
          90,
          88,
          76,
          89,
          78,
          73,
          83,
          93,
          75,
          95,
          63,
          75,
          92,
          86,
          69,
          90,
          86,
          88,
          97,
          68,
          85,
          69,
          91,
          79,
          74,
          83
         ],
         "z": [
          21,
          23,
          22,
          23,
          30,
          35,
          24,
          22,
          20,
          35,
          25,
          31,
          29,
          35,
          23,
          21,
          18,
          21,
          30,
          20,
          24,
          31,
          24,
          33,
          31,
          27,
          19,
          18,
          19,
          26,
          23,
          38,
          21,
          22,
          34,
          24,
          27,
          20,
          26,
          19,
          19,
          18,
          19,
          49,
          27,
          40,
          39,
          31,
          40,
          38,
          39,
          31,
          29,
          32,
          35,
          32,
          32,
          28,
          32,
          34,
          39,
          38,
          27,
          30,
          30,
          29,
          31,
          36,
          33,
          32,
          28,
          36,
          30,
          27,
          35,
          32,
          29,
          30,
          28,
          36,
          32,
          38,
          35,
          32,
          30
         ]
        }
       ],
       "layout": {
        "coloraxis": {
         "colorbar": {
          "title": {
           "text": "class"
          }
         },
         "colorscale": [
          [
           0,
           "#0d0887"
          ],
          [
           0.1111111111111111,
           "#46039f"
          ],
          [
           0.2222222222222222,
           "#7201a8"
          ],
          [
           0.3333333333333333,
           "#9c179e"
          ],
          [
           0.4444444444444444,
           "#bd3786"
          ],
          [
           0.5555555555555556,
           "#d8576b"
          ],
          [
           0.6666666666666666,
           "#ed7953"
          ],
          [
           0.7777777777777778,
           "#fb9f3a"
          ],
          [
           0.8888888888888888,
           "#fdca26"
          ],
          [
           1,
           "#f0f921"
          ]
         ]
        },
        "legend": {
         "title": {
          "text": "class"
         },
         "tracegroupgap": 0,
         "x": 0,
         "y": 1
        },
        "margin": {
         "t": 60
        },
        "scene": {
         "domain": {
          "x": [
           0,
           1
          ],
          "y": [
           0,
           1
          ]
         },
         "xaxis": {
          "title": {
           "text": "Annual Income"
          }
         },
         "yaxis": {
          "title": {
           "text": "Spending Score (1-100)"
          }
         },
         "zaxis": {
          "title": {
           "text": "Age"
          }
         }
        },
        "template": {
         "data": {
          "bar": [
           {
            "error_x": {
             "color": "#2a3f5f"
            },
            "error_y": {
             "color": "#2a3f5f"
            },
            "marker": {
             "line": {
              "color": "#E5ECF6",
              "width": 0.5
             },
             "pattern": {
              "fillmode": "overlay",
              "size": 10,
              "solidity": 0.2
             }
            },
            "type": "bar"
           }
          ],
          "barpolar": [
           {
            "marker": {
             "line": {
              "color": "#E5ECF6",
              "width": 0.5
             },
             "pattern": {
              "fillmode": "overlay",
              "size": 10,
              "solidity": 0.2
             }
            },
            "type": "barpolar"
           }
          ],
          "carpet": [
           {
            "aaxis": {
             "endlinecolor": "#2a3f5f",
             "gridcolor": "white",
             "linecolor": "white",
             "minorgridcolor": "white",
             "startlinecolor": "#2a3f5f"
            },
            "baxis": {
             "endlinecolor": "#2a3f5f",
             "gridcolor": "white",
             "linecolor": "white",
             "minorgridcolor": "white",
             "startlinecolor": "#2a3f5f"
            },
            "type": "carpet"
           }
          ],
          "choropleth": [
           {
            "colorbar": {
             "outlinewidth": 0,
             "ticks": ""
            },
            "type": "choropleth"
           }
          ],
          "contour": [
           {
            "colorbar": {
             "outlinewidth": 0,
             "ticks": ""
            },
            "colorscale": [
             [
              0,
              "#0d0887"
             ],
             [
              0.1111111111111111,
              "#46039f"
             ],
             [
              0.2222222222222222,
              "#7201a8"
             ],
             [
              0.3333333333333333,
              "#9c179e"
             ],
             [
              0.4444444444444444,
              "#bd3786"
             ],
             [
              0.5555555555555556,
              "#d8576b"
             ],
             [
              0.6666666666666666,
              "#ed7953"
             ],
             [
              0.7777777777777778,
              "#fb9f3a"
             ],
             [
              0.8888888888888888,
              "#fdca26"
             ],
             [
              1,
              "#f0f921"
             ]
            ],
            "type": "contour"
           }
          ],
          "contourcarpet": [
           {
            "colorbar": {
             "outlinewidth": 0,
             "ticks": ""
            },
            "type": "contourcarpet"
           }
          ],
          "heatmap": [
           {
            "colorbar": {
             "outlinewidth": 0,
             "ticks": ""
            },
            "colorscale": [
             [
              0,
              "#0d0887"
             ],
             [
              0.1111111111111111,
              "#46039f"
             ],
             [
              0.2222222222222222,
              "#7201a8"
             ],
             [
              0.3333333333333333,
              "#9c179e"
             ],
             [
              0.4444444444444444,
              "#bd3786"
             ],
             [
              0.5555555555555556,
              "#d8576b"
             ],
             [
              0.6666666666666666,
              "#ed7953"
             ],
             [
              0.7777777777777778,
              "#fb9f3a"
             ],
             [
              0.8888888888888888,
              "#fdca26"
             ],
             [
              1,
              "#f0f921"
             ]
            ],
            "type": "heatmap"
           }
          ],
          "heatmapgl": [
           {
            "colorbar": {
             "outlinewidth": 0,
             "ticks": ""
            },
            "colorscale": [
             [
              0,
              "#0d0887"
             ],
             [
              0.1111111111111111,
              "#46039f"
             ],
             [
              0.2222222222222222,
              "#7201a8"
             ],
             [
              0.3333333333333333,
              "#9c179e"
             ],
             [
              0.4444444444444444,
              "#bd3786"
             ],
             [
              0.5555555555555556,
              "#d8576b"
             ],
             [
              0.6666666666666666,
              "#ed7953"
             ],
             [
              0.7777777777777778,
              "#fb9f3a"
             ],
             [
              0.8888888888888888,
              "#fdca26"
             ],
             [
              1,
              "#f0f921"
             ]
            ],
            "type": "heatmapgl"
           }
          ],
          "histogram": [
           {
            "marker": {
             "pattern": {
              "fillmode": "overlay",
              "size": 10,
              "solidity": 0.2
             }
            },
            "type": "histogram"
           }
          ],
          "histogram2d": [
           {
            "colorbar": {
             "outlinewidth": 0,
             "ticks": ""
            },
            "colorscale": [
             [
              0,
              "#0d0887"
             ],
             [
              0.1111111111111111,
              "#46039f"
             ],
             [
              0.2222222222222222,
              "#7201a8"
             ],
             [
              0.3333333333333333,
              "#9c179e"
             ],
             [
              0.4444444444444444,
              "#bd3786"
             ],
             [
              0.5555555555555556,
              "#d8576b"
             ],
             [
              0.6666666666666666,
              "#ed7953"
             ],
             [
              0.7777777777777778,
              "#fb9f3a"
             ],
             [
              0.8888888888888888,
              "#fdca26"
             ],
             [
              1,
              "#f0f921"
             ]
            ],
            "type": "histogram2d"
           }
          ],
          "histogram2dcontour": [
           {
            "colorbar": {
             "outlinewidth": 0,
             "ticks": ""
            },
            "colorscale": [
             [
              0,
              "#0d0887"
             ],
             [
              0.1111111111111111,
              "#46039f"
             ],
             [
              0.2222222222222222,
              "#7201a8"
             ],
             [
              0.3333333333333333,
              "#9c179e"
             ],
             [
              0.4444444444444444,
              "#bd3786"
             ],
             [
              0.5555555555555556,
              "#d8576b"
             ],
             [
              0.6666666666666666,
              "#ed7953"
             ],
             [
              0.7777777777777778,
              "#fb9f3a"
             ],
             [
              0.8888888888888888,
              "#fdca26"
             ],
             [
              1,
              "#f0f921"
             ]
            ],
            "type": "histogram2dcontour"
           }
          ],
          "mesh3d": [
           {
            "colorbar": {
             "outlinewidth": 0,
             "ticks": ""
            },
            "type": "mesh3d"
           }
          ],
          "parcoords": [
           {
            "line": {
             "colorbar": {
              "outlinewidth": 0,
              "ticks": ""
             }
            },
            "type": "parcoords"
           }
          ],
          "pie": [
           {
            "automargin": true,
            "type": "pie"
           }
          ],
          "scatter": [
           {
            "marker": {
             "colorbar": {
              "outlinewidth": 0,
              "ticks": ""
             }
            },
            "type": "scatter"
           }
          ],
          "scatter3d": [
           {
            "line": {
             "colorbar": {
              "outlinewidth": 0,
              "ticks": ""
             }
            },
            "marker": {
             "colorbar": {
              "outlinewidth": 0,
              "ticks": ""
             }
            },
            "type": "scatter3d"
           }
          ],
          "scattercarpet": [
           {
            "marker": {
             "colorbar": {
              "outlinewidth": 0,
              "ticks": ""
             }
            },
            "type": "scattercarpet"
           }
          ],
          "scattergeo": [
           {
            "marker": {
             "colorbar": {
              "outlinewidth": 0,
              "ticks": ""
             }
            },
            "type": "scattergeo"
           }
          ],
          "scattergl": [
           {
            "marker": {
             "colorbar": {
              "outlinewidth": 0,
              "ticks": ""
             }
            },
            "type": "scattergl"
           }
          ],
          "scattermapbox": [
           {
            "marker": {
             "colorbar": {
              "outlinewidth": 0,
              "ticks": ""
             }
            },
            "type": "scattermapbox"
           }
          ],
          "scatterpolar": [
           {
            "marker": {
             "colorbar": {
              "outlinewidth": 0,
              "ticks": ""
             }
            },
            "type": "scatterpolar"
           }
          ],
          "scatterpolargl": [
           {
            "marker": {
             "colorbar": {
              "outlinewidth": 0,
              "ticks": ""
             }
            },
            "type": "scatterpolargl"
           }
          ],
          "scatterternary": [
           {
            "marker": {
             "colorbar": {
              "outlinewidth": 0,
              "ticks": ""
             }
            },
            "type": "scatterternary"
           }
          ],
          "surface": [
           {
            "colorbar": {
             "outlinewidth": 0,
             "ticks": ""
            },
            "colorscale": [
             [
              0,
              "#0d0887"
             ],
             [
              0.1111111111111111,
              "#46039f"
             ],
             [
              0.2222222222222222,
              "#7201a8"
             ],
             [
              0.3333333333333333,
              "#9c179e"
             ],
             [
              0.4444444444444444,
              "#bd3786"
             ],
             [
              0.5555555555555556,
              "#d8576b"
             ],
             [
              0.6666666666666666,
              "#ed7953"
             ],
             [
              0.7777777777777778,
              "#fb9f3a"
             ],
             [
              0.8888888888888888,
              "#fdca26"
             ],
             [
              1,
              "#f0f921"
             ]
            ],
            "type": "surface"
           }
          ],
          "table": [
           {
            "cells": {
             "fill": {
              "color": "#EBF0F8"
             },
             "line": {
              "color": "white"
             }
            },
            "header": {
             "fill": {
              "color": "#C8D4E3"
             },
             "line": {
              "color": "white"
             }
            },
            "type": "table"
           }
          ]
         },
         "layout": {
          "annotationdefaults": {
           "arrowcolor": "#2a3f5f",
           "arrowhead": 0,
           "arrowwidth": 1
          },
          "autotypenumbers": "strict",
          "coloraxis": {
           "colorbar": {
            "outlinewidth": 0,
            "ticks": ""
           }
          },
          "colorscale": {
           "diverging": [
            [
             0,
             "#8e0152"
            ],
            [
             0.1,
             "#c51b7d"
            ],
            [
             0.2,
             "#de77ae"
            ],
            [
             0.3,
             "#f1b6da"
            ],
            [
             0.4,
             "#fde0ef"
            ],
            [
             0.5,
             "#f7f7f7"
            ],
            [
             0.6,
             "#e6f5d0"
            ],
            [
             0.7,
             "#b8e186"
            ],
            [
             0.8,
             "#7fbc41"
            ],
            [
             0.9,
             "#4d9221"
            ],
            [
             1,
             "#276419"
            ]
           ],
           "sequential": [
            [
             0,
             "#0d0887"
            ],
            [
             0.1111111111111111,
             "#46039f"
            ],
            [
             0.2222222222222222,
             "#7201a8"
            ],
            [
             0.3333333333333333,
             "#9c179e"
            ],
            [
             0.4444444444444444,
             "#bd3786"
            ],
            [
             0.5555555555555556,
             "#d8576b"
            ],
            [
             0.6666666666666666,
             "#ed7953"
            ],
            [
             0.7777777777777778,
             "#fb9f3a"
            ],
            [
             0.8888888888888888,
             "#fdca26"
            ],
            [
             1,
             "#f0f921"
            ]
           ],
           "sequentialminus": [
            [
             0,
             "#0d0887"
            ],
            [
             0.1111111111111111,
             "#46039f"
            ],
            [
             0.2222222222222222,
             "#7201a8"
            ],
            [
             0.3333333333333333,
             "#9c179e"
            ],
            [
             0.4444444444444444,
             "#bd3786"
            ],
            [
             0.5555555555555556,
             "#d8576b"
            ],
            [
             0.6666666666666666,
             "#ed7953"
            ],
            [
             0.7777777777777778,
             "#fb9f3a"
            ],
            [
             0.8888888888888888,
             "#fdca26"
            ],
            [
             1,
             "#f0f921"
            ]
           ]
          },
          "colorway": [
           "#636efa",
           "#EF553B",
           "#00cc96",
           "#ab63fa",
           "#FFA15A",
           "#19d3f3",
           "#FF6692",
           "#B6E880",
           "#FF97FF",
           "#FECB52"
          ],
          "font": {
           "color": "#2a3f5f"
          },
          "geo": {
           "bgcolor": "white",
           "lakecolor": "white",
           "landcolor": "#E5ECF6",
           "showlakes": true,
           "showland": true,
           "subunitcolor": "white"
          },
          "hoverlabel": {
           "align": "left"
          },
          "hovermode": "closest",
          "mapbox": {
           "style": "light"
          },
          "paper_bgcolor": "white",
          "plot_bgcolor": "#E5ECF6",
          "polar": {
           "angularaxis": {
            "gridcolor": "white",
            "linecolor": "white",
            "ticks": ""
           },
           "bgcolor": "#E5ECF6",
           "radialaxis": {
            "gridcolor": "white",
            "linecolor": "white",
            "ticks": ""
           }
          },
          "scene": {
           "xaxis": {
            "backgroundcolor": "#E5ECF6",
            "gridcolor": "white",
            "gridwidth": 2,
            "linecolor": "white",
            "showbackground": true,
            "ticks": "",
            "zerolinecolor": "white"
           },
           "yaxis": {
            "backgroundcolor": "#E5ECF6",
            "gridcolor": "white",
            "gridwidth": 2,
            "linecolor": "white",
            "showbackground": true,
            "ticks": "",
            "zerolinecolor": "white"
           },
           "zaxis": {
            "backgroundcolor": "#E5ECF6",
            "gridcolor": "white",
            "gridwidth": 2,
            "linecolor": "white",
            "showbackground": true,
            "ticks": "",
            "zerolinecolor": "white"
           }
          },
          "shapedefaults": {
           "line": {
            "color": "#2a3f5f"
           }
          },
          "ternary": {
           "aaxis": {
            "gridcolor": "white",
            "linecolor": "white",
            "ticks": ""
           },
           "baxis": {
            "gridcolor": "white",
            "linecolor": "white",
            "ticks": ""
           },
           "bgcolor": "#E5ECF6",
           "caxis": {
            "gridcolor": "white",
            "linecolor": "white",
            "ticks": ""
           }
          },
          "title": {
           "x": 0.05
          },
          "xaxis": {
           "automargin": true,
           "gridcolor": "white",
           "linecolor": "white",
           "ticks": "",
           "title": {
            "standoff": 15
           },
           "zerolinecolor": "white",
           "zerolinewidth": 2
          },
          "yaxis": {
           "automargin": true,
           "gridcolor": "white",
           "linecolor": "white",
           "ticks": "",
           "title": {
            "standoff": 15
           },
           "zerolinecolor": "white",
           "zerolinewidth": 2
          }
         }
        },
        "width": 800
       }
      }
     },
     "metadata": {},
     "output_type": "display_data"
    }
   ],
   "source": [
    "fig = px.scatter_3d(\n",
    "    shopping_df,\n",
    "    x=\"Annual Income\",\n",
    "    y=\"Spending Score (1-100)\",\n",
    "    z=\"Age\",\n",
    "    color=\"class\",\n",
    "    symbol=\"class\",\n",
    "    width=800,\n",
    ")\n",
    "fig.update_layout(legend=dict(x=0, y=1))\n",
    "fig.show()"
   ]
  },
  {
   "cell_type": "code",
   "execution_count": 8,
   "metadata": {},
   "outputs": [
    {
     "data": {},
     "metadata": {},
     "output_type": "display_data"
    },
    {
     "data": {
      "application/vnd.holoviews_exec.v0+json": "",
      "text/html": [
       "<div id='1379'>\n",
       "\n",
       "\n",
       "\n",
       "\n",
       "\n",
       "  <div class=\"bk-root\" id=\"1ca51b0d-5627-4762-97ed-8046707db642\" data-root-id=\"1379\"></div>\n",
       "</div>\n",
       "<script type=\"application/javascript\">(function(root) {\n",
       "  function embed_document(root) {\n",
       "    var docs_json = {\"14f24366-cccf-45ca-8346-0aa171bfae2e\":{\"defs\":[{\"extends\":null,\"module\":null,\"name\":\"ReactiveHTML1\",\"overrides\":[],\"properties\":[]},{\"extends\":null,\"module\":null,\"name\":\"FlexBox1\",\"overrides\":[],\"properties\":[{\"default\":\"flex-start\",\"kind\":null,\"name\":\"align_content\"},{\"default\":\"flex-start\",\"kind\":null,\"name\":\"align_items\"},{\"default\":\"row\",\"kind\":null,\"name\":\"flex_direction\"},{\"default\":\"wrap\",\"kind\":null,\"name\":\"flex_wrap\"},{\"default\":\"flex-start\",\"kind\":null,\"name\":\"justify_content\"}]},{\"extends\":null,\"module\":null,\"name\":\"TemplateActions1\",\"overrides\":[],\"properties\":[{\"default\":0,\"kind\":null,\"name\":\"open_modal\"},{\"default\":0,\"kind\":null,\"name\":\"close_modal\"}]},{\"extends\":null,\"module\":null,\"name\":\"MaterialTemplateActions1\",\"overrides\":[],\"properties\":[{\"default\":0,\"kind\":null,\"name\":\"open_modal\"},{\"default\":0,\"kind\":null,\"name\":\"close_modal\"}]}],\"roots\":{\"references\":[{\"attributes\":{},\"id\":\"1488\",\"type\":\"UnionRenderers\"},{\"attributes\":{},\"id\":\"1542\",\"type\":\"UnionRenderers\"},{\"attributes\":{\"data_source\":{\"id\":\"1469\"},\"glyph\":{\"id\":\"1472\"},\"hover_glyph\":null,\"muted_glyph\":{\"id\":\"1474\"},\"nonselection_glyph\":{\"id\":\"1473\"},\"selection_glyph\":{\"id\":\"1492\"},\"view\":{\"id\":\"1476\"}},\"id\":\"1475\",\"type\":\"GlyphRenderer\"},{\"attributes\":{\"angle\":{\"value\":0.0},\"fill_alpha\":{\"value\":1.0},\"fill_color\":{\"value\":\"#8b8b8b\"},\"hatch_alpha\":{\"value\":1.0},\"hatch_color\":{\"value\":\"black\"},\"hatch_scale\":{\"value\":12.0},\"hatch_weight\":{\"value\":1.0},\"line_alpha\":{\"value\":1.0},\"line_cap\":{\"value\":\"butt\"},\"line_color\":{\"value\":\"#8b8b8b\"},\"line_dash\":{\"value\":[]},\"line_dash_offset\":{\"value\":0},\"line_join\":{\"value\":\"bevel\"},\"line_width\":{\"value\":1},\"marker\":{\"value\":\"circle\"},\"size\":{\"value\":5.477225575051661},\"x\":{\"field\":\"Annual Income\"},\"y\":{\"field\":\"Spending Score (1-100)\"}},\"id\":\"1546\",\"type\":\"Scatter\"},{\"attributes\":{\"label\":{\"value\":\"2\"},\"renderers\":[{\"id\":\"1475\"}]},\"id\":\"1491\",\"type\":\"LegendItem\"},{\"attributes\":{\"axis\":{\"id\":\"1403\"},\"dimension\":1,\"grid_line_color\":null,\"ticker\":null},\"id\":\"1406\",\"type\":\"Grid\"},{\"attributes\":{},\"id\":\"1572\",\"type\":\"UnionRenderers\"},{\"attributes\":{\"source\":{\"id\":\"1547\"}},\"id\":\"1554\",\"type\":\"CDSView\"},{\"attributes\":{},\"id\":\"1404\",\"type\":\"BasicTicker\"},{\"attributes\":{},\"id\":\"1578\",\"type\":\"Selection\"},{\"attributes\":{\"axis_label\":\"Spending Score (1-100)\",\"formatter\":{\"id\":\"1423\"},\"major_label_policy\":{\"id\":\"1425\"},\"ticker\":{\"id\":\"1404\"}},\"id\":\"1403\",\"type\":\"LinearAxis\"},{\"attributes\":{\"margin\":[5,5,5,5],\"name\":\"HSpacer02406\",\"sizing_mode\":\"stretch_width\"},\"id\":\"1807\",\"type\":\"Spacer\"},{\"attributes\":{\"data_source\":{\"id\":\"1547\"},\"glyph\":{\"id\":\"1550\"},\"hover_glyph\":null,\"muted_glyph\":{\"id\":\"1552\"},\"nonselection_glyph\":{\"id\":\"1551\"},\"selection_glyph\":{\"id\":\"1576\"},\"view\":{\"id\":\"1554\"}},\"id\":\"1553\",\"type\":\"GlyphRenderer\"},{\"attributes\":{},\"id\":\"1441\",\"type\":\"UnionRenderers\"},{\"attributes\":{\"fill_alpha\":{\"value\":0.2},\"fill_color\":{\"value\":\"#e5ae38\"},\"line_alpha\":{\"value\":0.2},\"line_color\":{\"value\":\"#e5ae38\"},\"size\":{\"value\":5.477225575051661},\"x\":{\"field\":\"Annual Income\"},\"y\":{\"field\":\"Spending Score (1-100)\"}},\"id\":\"1474\",\"type\":\"Scatter\"},{\"attributes\":{\"source\":{\"id\":\"1469\"}},\"id\":\"1476\",\"type\":\"CDSView\"},{\"attributes\":{\"click_policy\":\"mute\",\"items\":[{\"id\":\"1445\"},{\"id\":\"1467\"},{\"id\":\"1491\"},{\"id\":\"1517\"},{\"id\":\"1545\"},{\"id\":\"1575\"},{\"id\":\"1607\"}],\"location\":[0,0],\"title\":\"class\"},\"id\":\"1444\",\"type\":\"Legend\"},{\"attributes\":{},\"id\":\"1470\",\"type\":\"Selection\"},{\"attributes\":{\"data\":{\"Annual Income\":{\"__ndarray__\":\"AAAAAAAALkAAAAAAAAAwQAAAAAAAADFAAAAAAAAAMkAAAAAAAAAzQAAAAAAAADNAAAAAAAAANEAAAAAAAAA0QAAAAAAAADVAAAAAAAAAN0AAAAAAAAA4QAAAAAAAADlAAAAAAAAAPEAAAAAAAAA8QAAAAAAAAD1AAAAAAAAAPkAAAAAAAIBAQAAAAAAAgEBAAAAAAAAAQUAAAAAAAIBCQAAAAAAAAENAAAAAAACAQ0A=\",\"dtype\":\"float64\",\"order\":\"little\",\"shape\":[22]},\"Annual_Income\":{\"__ndarray__\":\"AAAAAAAALkAAAAAAAAAwQAAAAAAAADFAAAAAAAAAMkAAAAAAAAAzQAAAAAAAADNAAAAAAAAANEAAAAAAAAA0QAAAAAAAADVAAAAAAAAAN0AAAAAAAAA4QAAAAAAAADlAAAAAAAAAPEAAAAAAAAA8QAAAAAAAAD1AAAAAAAAAPkAAAAAAAIBAQAAAAAAAgEBAAAAAAAAAQUAAAAAAAIBCQAAAAAAAAENAAAAAAACAQ0A=\",\"dtype\":\"float64\",\"order\":\"little\",\"shape\":[22]},\"Spending Score (1-100)\":{\"__ndarray__\":\"AAAAAABAVEAAAAAAAEBTQAAAAAAAAFNAAAAAAACAV0AAAAAAAABSQAAAAAAAwFhAAAAAAABAU0AAAAAAAMBTQAAAAAAAgFBAAAAAAACAWEAAAAAAAEBSQAAAAAAAQFJAAAAAAACAVEAAAAAAAIBOQAAAAAAAwFVAAAAAAABAUkAAAAAAAABXQAAAAAAAQFRAAAAAAABAUkAAAAAAAMBSQAAAAAAAAFdAAAAAAABAUEA=\",\"dtype\":\"float64\",\"order\":\"little\",\"shape\":[22]},\"Spending_Score_left_parenthesis_1_hyphen_minus_100_right_parenthesis\":{\"__ndarray__\":\"AAAAAABAVEAAAAAAAEBTQAAAAAAAAFNAAAAAAACAV0AAAAAAAABSQAAAAAAAwFhAAAAAAABAU0AAAAAAAMBTQAAAAAAAgFBAAAAAAACAWEAAAAAAAEBSQAAAAAAAQFJAAAAAAACAVEAAAAAAAIBOQAAAAAAAwFVAAAAAAABAUkAAAAAAAABXQAAAAAAAQFRAAAAAAABAUkAAAAAAAMBSQAAAAAAAAFdAAAAAAABAUEA=\",\"dtype\":\"float64\",\"order\":\"little\",\"shape\":[22]},\"class\":[4,4,4,4,4,4,4,4,4,4,4,4,4,4,4,4,4,4,4,4,4,4]},\"selected\":{\"id\":\"1520\"},\"selection_policy\":{\"id\":\"1542\"}},\"id\":\"1519\",\"type\":\"ColumnDataSource\"},{\"attributes\":{\"active_multi\":null,\"tools\":[{\"id\":\"1383\"},{\"id\":\"1407\"},{\"id\":\"1408\"},{\"id\":\"1409\"},{\"id\":\"1410\"},{\"id\":\"1411\"}]},\"id\":\"1413\",\"type\":\"Toolbar\"},{\"attributes\":{\"fill_alpha\":{\"value\":0.1},\"fill_color\":{\"value\":\"#30a2da\"},\"line_alpha\":{\"value\":0.1},\"line_color\":{\"value\":\"#30a2da\"},\"size\":{\"value\":5.477225575051661},\"x\":{\"field\":\"Annual Income\"},\"y\":{\"field\":\"Spending Score (1-100)\"}},\"id\":\"1430\",\"type\":\"Scatter\"},{\"attributes\":{\"fill_alpha\":{\"value\":0.2},\"fill_color\":{\"value\":\"#17becf\"},\"line_alpha\":{\"value\":0.2},\"line_color\":{\"value\":\"#17becf\"},\"size\":{\"value\":5.477225575051661},\"x\":{\"field\":\"Annual Income\"},\"y\":{\"field\":\"Spending Score (1-100)\"}},\"id\":\"1552\",\"type\":\"Scatter\"},{\"attributes\":{},\"id\":\"1407\",\"type\":\"SaveTool\"},{\"attributes\":{},\"id\":\"1548\",\"type\":\"Selection\"},{\"attributes\":{},\"id\":\"1408\",\"type\":\"PanTool\"},{\"attributes\":{\"fill_alpha\":{\"value\":0.1},\"fill_color\":{\"value\":\"#e5ae38\"},\"line_alpha\":{\"value\":0.1},\"line_color\":{\"value\":\"#e5ae38\"},\"size\":{\"value\":5.477225575051661},\"x\":{\"field\":\"Annual Income\"},\"y\":{\"field\":\"Spending Score (1-100)\"}},\"id\":\"1473\",\"type\":\"Scatter\"},{\"attributes\":{\"fill_alpha\":{\"value\":0.1},\"fill_color\":{\"value\":\"#9467bd\"},\"line_alpha\":{\"value\":0.1},\"line_color\":{\"value\":\"#9467bd\"},\"size\":{\"value\":5.477225575051661},\"x\":{\"field\":\"Annual Income\"},\"y\":{\"field\":\"Spending Score (1-100)\"}},\"id\":\"1581\",\"type\":\"Scatter\"},{\"attributes\":{},\"id\":\"1409\",\"type\":\"WheelZoomTool\"},{\"attributes\":{\"fill_color\":{\"value\":\"#e5ae38\"},\"line_color\":{\"value\":\"#e5ae38\"},\"size\":{\"value\":5.477225575051661},\"x\":{\"field\":\"Annual Income\"},\"y\":{\"field\":\"Spending Score (1-100)\"}},\"id\":\"1472\",\"type\":\"Scatter\"},{\"attributes\":{\"label\":{\"value\":\"5\"},\"renderers\":[{\"id\":\"1553\"}]},\"id\":\"1575\",\"type\":\"LegendItem\"},{\"attributes\":{},\"id\":\"1494\",\"type\":\"Selection\"},{\"attributes\":{\"overlay\":{\"id\":\"1412\"}},\"id\":\"1410\",\"type\":\"BoxZoomTool\"},{\"attributes\":{\"data_source\":{\"id\":\"1493\"},\"glyph\":{\"id\":\"1496\"},\"hover_glyph\":null,\"muted_glyph\":{\"id\":\"1498\"},\"nonselection_glyph\":{\"id\":\"1497\"},\"selection_glyph\":{\"id\":\"1518\"},\"view\":{\"id\":\"1500\"}},\"id\":\"1499\",\"type\":\"GlyphRenderer\"},{\"attributes\":{},\"id\":\"1464\",\"type\":\"UnionRenderers\"},{\"attributes\":{\"fill_alpha\":{\"value\":0.1},\"fill_color\":{\"value\":\"#17becf\"},\"line_alpha\":{\"value\":0.1},\"line_color\":{\"value\":\"#17becf\"},\"size\":{\"value\":5.477225575051661},\"x\":{\"field\":\"Annual Income\"},\"y\":{\"field\":\"Spending Score (1-100)\"}},\"id\":\"1551\",\"type\":\"Scatter\"},{\"attributes\":{\"source\":{\"id\":\"1493\"}},\"id\":\"1500\",\"type\":\"CDSView\"},{\"attributes\":{\"angle\":{\"value\":0.0},\"fill_alpha\":{\"value\":1.0},\"fill_color\":{\"value\":\"#e5ae38\"},\"hatch_alpha\":{\"value\":1.0},\"hatch_color\":{\"value\":\"black\"},\"hatch_scale\":{\"value\":12.0},\"hatch_weight\":{\"value\":1.0},\"line_alpha\":{\"value\":1.0},\"line_cap\":{\"value\":\"butt\"},\"line_color\":{\"value\":\"#e5ae38\"},\"line_dash\":{\"value\":[]},\"line_dash_offset\":{\"value\":0},\"line_join\":{\"value\":\"bevel\"},\"line_width\":{\"value\":1},\"marker\":{\"value\":\"circle\"},\"size\":{\"value\":5.477225575051661},\"x\":{\"field\":\"Annual Income\"},\"y\":{\"field\":\"Spending Score (1-100)\"}},\"id\":\"1492\",\"type\":\"Scatter\"},{\"attributes\":{\"angle\":{\"value\":0.0},\"fill_alpha\":{\"value\":1.0},\"fill_color\":{\"value\":\"#17becf\"},\"hatch_alpha\":{\"value\":1.0},\"hatch_color\":{\"value\":\"black\"},\"hatch_scale\":{\"value\":12.0},\"hatch_weight\":{\"value\":1.0},\"line_alpha\":{\"value\":1.0},\"line_cap\":{\"value\":\"butt\"},\"line_color\":{\"value\":\"#17becf\"},\"line_dash\":{\"value\":[]},\"line_dash_offset\":{\"value\":0},\"line_join\":{\"value\":\"bevel\"},\"line_width\":{\"value\":1},\"marker\":{\"value\":\"circle\"},\"size\":{\"value\":5.477225575051661},\"x\":{\"field\":\"Annual Income\"},\"y\":{\"field\":\"Spending Score (1-100)\"}},\"id\":\"1576\",\"type\":\"Scatter\"},{\"attributes\":{\"fill_color\":{\"value\":\"#17becf\"},\"line_color\":{\"value\":\"#17becf\"},\"size\":{\"value\":5.477225575051661},\"x\":{\"field\":\"Annual Income\"},\"y\":{\"field\":\"Spending Score (1-100)\"}},\"id\":\"1550\",\"type\":\"Scatter\"},{\"attributes\":{\"label\":{\"value\":\"3\"},\"renderers\":[{\"id\":\"1499\"}]},\"id\":\"1517\",\"type\":\"LegendItem\"},{\"attributes\":{},\"id\":\"1411\",\"type\":\"ResetTool\"},{\"attributes\":{},\"id\":\"1448\",\"type\":\"Selection\"},{\"attributes\":{\"angle\":{\"value\":0.0},\"fill_alpha\":{\"value\":1.0},\"fill_color\":{\"value\":\"#6d904f\"},\"hatch_alpha\":{\"value\":1.0},\"hatch_color\":{\"value\":\"black\"},\"hatch_scale\":{\"value\":12.0},\"hatch_weight\":{\"value\":1.0},\"line_alpha\":{\"value\":1.0},\"line_cap\":{\"value\":\"butt\"},\"line_color\":{\"value\":\"#6d904f\"},\"line_dash\":{\"value\":[]},\"line_dash_offset\":{\"value\":0},\"line_join\":{\"value\":\"bevel\"},\"line_width\":{\"value\":1},\"marker\":{\"value\":\"circle\"},\"size\":{\"value\":5.477225575051661},\"x\":{\"field\":\"Annual Income\"},\"y\":{\"field\":\"Spending Score (1-100)\"}},\"id\":\"1518\",\"type\":\"Scatter\"},{\"attributes\":{\"label\":{\"value\":\"6\"},\"renderers\":[{\"id\":\"1583\"}]},\"id\":\"1607\",\"type\":\"LegendItem\"},{\"attributes\":{},\"id\":\"1427\",\"type\":\"Selection\"},{\"attributes\":{\"source\":{\"id\":\"1447\"}},\"id\":\"1454\",\"type\":\"CDSView\"},{\"attributes\":{\"data\":{\"Annual Income\":{\"__ndarray__\":\"AAAAAABAUUAAAAAAAIBRQAAAAAAAwFFAAAAAAADAUUAAAAAAAMBRQAAAAAAAAFJAAAAAAABAUkAAAAAAAEBSQAAAAAAAgFJAAAAAAADAUkAAAAAAAABTQAAAAAAAQFNAAAAAAABAU0AAAAAAAIBTQAAAAAAAgFNAAAAAAACAU0AAAAAAAIBTQAAAAAAAgFNAAAAAAACAU0AAAAAAAMBTQAAAAAAAQFRAAAAAAABAVUAAAAAAAIBVQAAAAAAAwFVAAAAAAADAVUAAAAAAAMBVQAAAAAAAAFZAAAAAAAAAVkA=\",\"dtype\":\"float64\",\"order\":\"little\",\"shape\":[28]},\"Annual_Income\":{\"__ndarray__\":\"AAAAAABAUUAAAAAAAIBRQAAAAAAAwFFAAAAAAADAUUAAAAAAAMBRQAAAAAAAAFJAAAAAAABAUkAAAAAAAEBSQAAAAAAAgFJAAAAAAADAUkAAAAAAAABTQAAAAAAAQFNAAAAAAABAU0AAAAAAAIBTQAAAAAAAgFNAAAAAAACAU0AAAAAAAIBTQAAAAAAAgFNAAAAAAACAU0AAAAAAAMBTQAAAAAAAQFRAAAAAAABAVUAAAAAAAIBVQAAAAAAAwFVAAAAAAADAVUAAAAAAAMBVQAAAAAAAAFZAAAAAAAAAVkA=\",\"dtype\":\"float64\",\"order\":\"little\",\"shape\":[28]},\"Spending Score (1-100)\":{\"__ndarray__\":\"AAAAAADAVkAAAAAAAEBTQAAAAAAAwFdAAAAAAADAUkAAAAAAAMBSQAAAAAAAwFFAAAAAAAAAVkAAAAAAAEBSQAAAAAAAAFJAAAAAAABAV0AAAAAAAMBVQAAAAAAAQFhAAAAAAACAUkAAAAAAAIBWQAAAAAAAAFZAAAAAAAAAU0AAAAAAAEBWQAAAAAAAgFNAAAAAAABAUkAAAAAAAMBUQAAAAAAAQFdAAAAAAADAUkAAAAAAAMBXQAAAAAAAgE9AAAAAAADAUkAAAAAAAABXQAAAAAAAgFVAAAAAAABAUUA=\",\"dtype\":\"float64\",\"order\":\"little\",\"shape\":[28]},\"Spending_Score_left_parenthesis_1_hyphen_minus_100_right_parenthesis\":{\"__ndarray__\":\"AAAAAADAVkAAAAAAAEBTQAAAAAAAwFdAAAAAAADAUkAAAAAAAMBSQAAAAAAAwFFAAAAAAAAAVkAAAAAAAEBSQAAAAAAAAFJAAAAAAABAV0AAAAAAAMBVQAAAAAAAQFhAAAAAAACAUkAAAAAAAIBWQAAAAAAAAFZAAAAAAAAAU0AAAAAAAEBWQAAAAAAAgFNAAAAAAABAUkAAAAAAAMBUQAAAAAAAQFdAAAAAAADAUkAAAAAAAMBXQAAAAAAAgE9AAAAAAADAUkAAAAAAAABXQAAAAAAAgFVAAAAAAABAUUA=\",\"dtype\":\"float64\",\"order\":\"little\",\"shape\":[28]},\"class\":[6,6,6,6,6,6,6,6,6,6,6,6,6,6,6,6,6,6,6,6,6,6,6,6,6,6,6,6]},\"selected\":{\"id\":\"1578\"},\"selection_policy\":{\"id\":\"1604\"}},\"id\":\"1577\",\"type\":\"ColumnDataSource\"},{\"attributes\":{\"fill_color\":{\"value\":\"#9467bd\"},\"line_color\":{\"value\":\"#9467bd\"},\"size\":{\"value\":5.477225575051661},\"x\":{\"field\":\"Annual Income\"},\"y\":{\"field\":\"Spending Score (1-100)\"}},\"id\":\"1580\",\"type\":\"Scatter\"},{\"attributes\":{\"fill_alpha\":{\"value\":0.2},\"fill_color\":{\"value\":\"#6d904f\"},\"line_alpha\":{\"value\":0.2},\"line_color\":{\"value\":\"#6d904f\"},\"size\":{\"value\":5.477225575051661},\"x\":{\"field\":\"Annual Income\"},\"y\":{\"field\":\"Spending Score (1-100)\"}},\"id\":\"1498\",\"type\":\"Scatter\"},{\"attributes\":{\"data\":{\"Annual Income\":{\"__ndarray__\":\"AAAAAABAV0AAAAAAAEBYQAAAAAAAgFhAAAAAAADAWEAAAAAAAEBZQAAAAAAAwFlAAAAAAADAWUAAAAAAAEBcQAAAAAAAAF5AAAAAAACAX0AAAAAAACBhQA==\",\"dtype\":\"float64\",\"order\":\"little\",\"shape\":[11]},\"Annual_Income\":{\"__ndarray__\":\"AAAAAABAV0AAAAAAAEBYQAAAAAAAgFhAAAAAAADAWEAAAAAAAEBZQAAAAAAAwFlAAAAAAADAWUAAAAAAAEBcQAAAAAAAAF5AAAAAAACAX0AAAAAAACBhQA==\",\"dtype\":\"float64\",\"order\":\"little\",\"shape\":[11]},\"Spending Score (1-100)\":{\"__ndarray__\":\"AAAAAACAVkAAAAAAAIBVQAAAAAAAAFZAAAAAAABAWEAAAAAAAABRQAAAAAAAQFVAAAAAAABAUUAAAAAAAMBWQAAAAAAAwFNAAAAAAACAUkAAAAAAAMBUQA==\",\"dtype\":\"float64\",\"order\":\"little\",\"shape\":[11]},\"Spending_Score_left_parenthesis_1_hyphen_minus_100_right_parenthesis\":{\"__ndarray__\":\"AAAAAACAVkAAAAAAAIBVQAAAAAAAAFZAAAAAAABAWEAAAAAAAABRQAAAAAAAQFVAAAAAAABAUUAAAAAAAMBWQAAAAAAAwFNAAAAAAACAUkAAAAAAAMBUQA==\",\"dtype\":\"float64\",\"order\":\"little\",\"shape\":[11]},\"class\":[1,1,1,1,1,1,1,1,1,1,1]},\"selected\":{\"id\":\"1448\"},\"selection_policy\":{\"id\":\"1464\"}},\"id\":\"1447\",\"type\":\"ColumnDataSource\"},{\"attributes\":{\"fill_alpha\":{\"value\":0.2},\"fill_color\":{\"value\":\"#9467bd\"},\"line_alpha\":{\"value\":0.2},\"line_color\":{\"value\":\"#9467bd\"},\"size\":{\"value\":5.477225575051661},\"x\":{\"field\":\"Annual Income\"},\"y\":{\"field\":\"Spending Score (1-100)\"}},\"id\":\"1582\",\"type\":\"Scatter\"},{\"attributes\":{\"label\":{\"value\":\"1\"},\"renderers\":[{\"id\":\"1453\"}]},\"id\":\"1467\",\"type\":\"LegendItem\"},{\"attributes\":{\"children\":[{\"id\":\"1380\"},{\"id\":\"1390\"},{\"id\":\"1807\"}],\"margin\":[0,0,0,0],\"name\":\"Row02401\",\"tags\":[\"embedded\"]},\"id\":\"1379\",\"type\":\"Row\"},{\"attributes\":{\"end\":142.22857142857143,\"reset_end\":142.22857142857143,\"reset_start\":9.771428571428572,\"start\":9.771428571428572,\"tags\":[[[\"Annual Income\",\"Annual Income\",null]]]},\"id\":\"1381\",\"type\":\"Range1d\"},{\"attributes\":{\"fill_alpha\":{\"value\":0.2},\"fill_color\":{\"value\":\"#fc4f30\"},\"line_alpha\":{\"value\":0.2},\"line_color\":{\"value\":\"#fc4f30\"},\"size\":{\"value\":5.477225575051661},\"x\":{\"field\":\"Annual Income\"},\"y\":{\"field\":\"Spending Score (1-100)\"}},\"id\":\"1452\",\"type\":\"Scatter\"},{\"attributes\":{},\"id\":\"1514\",\"type\":\"UnionRenderers\"},{\"attributes\":{},\"id\":\"1397\",\"type\":\"LinearScale\"},{\"attributes\":{\"fill_color\":{\"value\":\"#6d904f\"},\"line_color\":{\"value\":\"#6d904f\"},\"size\":{\"value\":5.477225575051661},\"x\":{\"field\":\"Annual Income\"},\"y\":{\"field\":\"Spending Score (1-100)\"}},\"id\":\"1496\",\"type\":\"Scatter\"},{\"attributes\":{},\"id\":\"1604\",\"type\":\"UnionRenderers\"},{\"attributes\":{\"data_source\":{\"id\":\"1447\"},\"glyph\":{\"id\":\"1450\"},\"hover_glyph\":null,\"muted_glyph\":{\"id\":\"1452\"},\"nonselection_glyph\":{\"id\":\"1451\"},\"selection_glyph\":{\"id\":\"1468\"},\"view\":{\"id\":\"1454\"}},\"id\":\"1453\",\"type\":\"GlyphRenderer\"},{\"attributes\":{},\"id\":\"1422\",\"type\":\"AllLabels\"},{\"attributes\":{\"below\":[{\"id\":\"1399\"}],\"center\":[{\"id\":\"1402\"},{\"id\":\"1406\"}],\"height\":300,\"left\":[{\"id\":\"1403\"}],\"margin\":[5,5,5,5],\"min_border_bottom\":10,\"min_border_left\":10,\"min_border_right\":10,\"min_border_top\":10,\"renderers\":[{\"id\":\"1432\"},{\"id\":\"1453\"},{\"id\":\"1475\"},{\"id\":\"1499\"},{\"id\":\"1525\"},{\"id\":\"1553\"},{\"id\":\"1583\"}],\"right\":[{\"id\":\"1444\"}],\"sizing_mode\":\"fixed\",\"title\":{\"id\":\"1391\"},\"toolbar\":{\"id\":\"1413\"},\"width\":700,\"x_range\":{\"id\":\"1381\"},\"x_scale\":{\"id\":\"1395\"},\"y_range\":{\"id\":\"1382\"},\"y_scale\":{\"id\":\"1397\"}},\"id\":\"1390\",\"subtype\":\"Figure\",\"type\":\"Plot\"},{\"attributes\":{\"margin\":[5,5,5,5],\"name\":\"HSpacer02405\",\"sizing_mode\":\"stretch_width\"},\"id\":\"1380\",\"type\":\"Spacer\"},{\"attributes\":{\"fill_color\":{\"value\":\"#fc4f30\"},\"line_color\":{\"value\":\"#fc4f30\"},\"size\":{\"value\":5.477225575051661},\"x\":{\"field\":\"Annual Income\"},\"y\":{\"field\":\"Spending Score (1-100)\"}},\"id\":\"1450\",\"type\":\"Scatter\"},{\"attributes\":{\"bottom_units\":\"screen\",\"fill_alpha\":0.5,\"fill_color\":\"lightgrey\",\"left_units\":\"screen\",\"level\":\"overlay\",\"line_alpha\":1.0,\"line_color\":\"black\",\"line_dash\":[4,4],\"line_width\":2,\"right_units\":\"screen\",\"syncable\":false,\"top_units\":\"screen\"},\"id\":\"1412\",\"type\":\"BoxAnnotation\"},{\"attributes\":{\"fill_color\":{\"value\":\"#30a2da\"},\"line_color\":{\"value\":\"#30a2da\"},\"size\":{\"value\":5.477225575051661},\"x\":{\"field\":\"Annual Income\"},\"y\":{\"field\":\"Spending Score (1-100)\"}},\"id\":\"1429\",\"type\":\"Scatter\"},{\"attributes\":{\"fill_alpha\":{\"value\":0.1},\"fill_color\":{\"value\":\"#6d904f\"},\"line_alpha\":{\"value\":0.1},\"line_color\":{\"value\":\"#6d904f\"},\"size\":{\"value\":5.477225575051661},\"x\":{\"field\":\"Annual Income\"},\"y\":{\"field\":\"Spending Score (1-100)\"}},\"id\":\"1497\",\"type\":\"Scatter\"},{\"attributes\":{\"angle\":{\"value\":0.0},\"fill_alpha\":{\"value\":1.0},\"fill_color\":{\"value\":\"#30a2da\"},\"hatch_alpha\":{\"value\":1.0},\"hatch_color\":{\"value\":\"black\"},\"hatch_scale\":{\"value\":12.0},\"hatch_weight\":{\"value\":1.0},\"line_alpha\":{\"value\":1.0},\"line_cap\":{\"value\":\"butt\"},\"line_color\":{\"value\":\"#30a2da\"},\"line_dash\":{\"value\":[]},\"line_dash_offset\":{\"value\":0},\"line_join\":{\"value\":\"bevel\"},\"line_width\":{\"value\":1},\"marker\":{\"value\":\"circle\"},\"size\":{\"value\":5.477225575051661},\"x\":{\"field\":\"Annual Income\"},\"y\":{\"field\":\"Spending Score (1-100)\"}},\"id\":\"1446\",\"type\":\"Scatter\"},{\"attributes\":{\"source\":{\"id\":\"1519\"}},\"id\":\"1526\",\"type\":\"CDSView\"},{\"attributes\":{\"angle\":{\"value\":0.0},\"fill_alpha\":{\"value\":1.0},\"fill_color\":{\"value\":\"#9467bd\"},\"hatch_alpha\":{\"value\":1.0},\"hatch_color\":{\"value\":\"black\"},\"hatch_scale\":{\"value\":12.0},\"hatch_weight\":{\"value\":1.0},\"line_alpha\":{\"value\":1.0},\"line_cap\":{\"value\":\"butt\"},\"line_color\":{\"value\":\"#9467bd\"},\"line_dash\":{\"value\":[]},\"line_dash_offset\":{\"value\":0},\"line_join\":{\"value\":\"bevel\"},\"line_width\":{\"value\":1},\"marker\":{\"value\":\"circle\"},\"size\":{\"value\":5.477225575051661},\"x\":{\"field\":\"Annual Income\"},\"y\":{\"field\":\"Spending Score (1-100)\"}},\"id\":\"1608\",\"type\":\"Scatter\"},{\"attributes\":{\"data\":{\"Annual Income\":{\"__ndarray__\":\"AAAAAACAQ0AAAAAAAABEQAAAAAAAAERAAAAAAAAAREAAAAAAAABFQAAAAAAAgEVAAAAAAAAAR0AAAAAAAABHQAAAAAAAAEhAAAAAAAAASEAAAAAAAABIQAAAAAAAAEtAAAAAAAAAS0AAAAAAAABLQAAAAAAAAEtAAAAAAAAAS0AAAAAAAIBMQAAAAAAAAE1AAAAAAACATUAAAAAAAABOQAAAAAAAAE5AAAAAAAAATkAAAAAAAABOQAAAAAAAgE5AAAAAAAAAT0AAAAAAAABPQAAAAAAAAE9AAAAAAACAT0AAAAAAAABQQAAAAAAAAFBAAAAAAABAUEAAAAAAAEBQQAAAAAAAwFBAAAAAAADAUEAAAAAAAEBRQAAAAAAAgFFAAAAAAAAAUkAAAAAAAABTQA==\",\"dtype\":\"float64\",\"order\":\"little\",\"shape\":[38]},\"Annual_Income\":{\"__ndarray__\":\"AAAAAACAQ0AAAAAAAABEQAAAAAAAAERAAAAAAAAAREAAAAAAAABFQAAAAAAAgEVAAAAAAAAAR0AAAAAAAABHQAAAAAAAAEhAAAAAAAAASEAAAAAAAABIQAAAAAAAAEtAAAAAAAAAS0AAAAAAAABLQAAAAAAAAEtAAAAAAAAAS0AAAAAAAIBMQAAAAAAAAE1AAAAAAACATUAAAAAAAABOQAAAAAAAAE5AAAAAAAAATkAAAAAAAABOQAAAAAAAgE5AAAAAAAAAT0AAAAAAAABPQAAAAAAAAE9AAAAAAACAT0AAAAAAAABQQAAAAAAAAFBAAAAAAABAUEAAAAAAAEBQQAAAAAAAwFBAAAAAAADAUEAAAAAAAEBRQAAAAAAAgFFAAAAAAAAAUkAAAAAAAABTQA==\",\"dtype\":\"float64\",\"order\":\"little\",\"shape\":[38]},\"Spending Score (1-100)\":{\"__ndarray__\":\"AAAAAACATkAAAAAAAIBHQAAAAAAAAEVAAAAAAAAARUAAAAAAAABOQAAAAAAAAEtAAAAAAACASUAAAAAAAIBLQAAAAAAAgE1AAAAAAACATUAAAAAAAIBHQAAAAAAAAEtAAAAAAAAASEAAAAAAAABKQAAAAAAAgEtAAAAAAACATEAAAAAAAIBLQAAAAAAAAE5AAAAAAACAREAAAAAAAABEQAAAAAAAAEVAAAAAAAAASkAAAAAAAABJQAAAAAAAgEhAAAAAAACAREAAAAAAAIBLQAAAAAAAAEVAAAAAAAAAS0AAAAAAAABFQAAAAAAAAEdAAAAAAAAASEAAAAAAAABJQAAAAAAAAExAAAAAAAAAREAAAAAAAABNQAAAAAAAAD1AAAAAAAAAQUAAAAAAAABEQA==\",\"dtype\":\"float64\",\"order\":\"little\",\"shape\":[38]},\"Spending_Score_left_parenthesis_1_hyphen_minus_100_right_parenthesis\":{\"__ndarray__\":\"AAAAAACATkAAAAAAAIBHQAAAAAAAAEVAAAAAAAAARUAAAAAAAABOQAAAAAAAAEtAAAAAAACASUAAAAAAAIBLQAAAAAAAgE1AAAAAAACATUAAAAAAAIBHQAAAAAAAAEtAAAAAAAAASEAAAAAAAABKQAAAAAAAgEtAAAAAAACATEAAAAAAAIBLQAAAAAAAAE5AAAAAAACAREAAAAAAAABEQAAAAAAAAEVAAAAAAAAASkAAAAAAAABJQAAAAAAAgEhAAAAAAACAREAAAAAAAIBLQAAAAAAAAEVAAAAAAAAAS0AAAAAAAABFQAAAAAAAAEdAAAAAAAAASEAAAAAAAABJQAAAAAAAAExAAAAAAAAAREAAAAAAAABNQAAAAAAAAD1AAAAAAAAAQUAAAAAAAABEQA==\",\"dtype\":\"float64\",\"order\":\"little\",\"shape\":[38]},\"class\":[3,3,3,3,3,3,3,3,3,3,3,3,3,3,3,3,3,3,3,3,3,3,3,3,3,3,3,3,3,3,3,3,3,3,3,3,3,3]},\"selected\":{\"id\":\"1494\"},\"selection_policy\":{\"id\":\"1514\"}},\"id\":\"1493\",\"type\":\"ColumnDataSource\"},{\"attributes\":{\"label\":{\"value\":\"4\"},\"renderers\":[{\"id\":\"1525\"}]},\"id\":\"1545\",\"type\":\"LegendItem\"},{\"attributes\":{\"end\":108.8,\"reset_end\":108.8,\"reset_start\":-8.8,\"start\":-8.8,\"tags\":[[[\"Spending Score (1-100)\",\"Spending Score (1-100)\",null]]]},\"id\":\"1382\",\"type\":\"Range1d\"},{\"attributes\":{\"data_source\":{\"id\":\"1577\"},\"glyph\":{\"id\":\"1580\"},\"hover_glyph\":null,\"muted_glyph\":{\"id\":\"1582\"},\"nonselection_glyph\":{\"id\":\"1581\"},\"selection_glyph\":{\"id\":\"1608\"},\"view\":{\"id\":\"1584\"}},\"id\":\"1583\",\"type\":\"GlyphRenderer\"},{\"attributes\":{},\"id\":\"1520\",\"type\":\"Selection\"},{\"attributes\":{\"fill_alpha\":{\"value\":0.2},\"fill_color\":{\"value\":\"#8b8b8b\"},\"line_alpha\":{\"value\":0.2},\"line_color\":{\"value\":\"#8b8b8b\"},\"size\":{\"value\":5.477225575051661},\"x\":{\"field\":\"Annual Income\"},\"y\":{\"field\":\"Spending Score (1-100)\"}},\"id\":\"1524\",\"type\":\"Scatter\"},{\"attributes\":{\"source\":{\"id\":\"1577\"}},\"id\":\"1584\",\"type\":\"CDSView\"},{\"attributes\":{\"source\":{\"id\":\"1426\"}},\"id\":\"1433\",\"type\":\"CDSView\"},{\"attributes\":{\"callback\":null,\"renderers\":[{\"id\":\"1432\"},{\"id\":\"1453\"},{\"id\":\"1475\"},{\"id\":\"1499\"},{\"id\":\"1525\"},{\"id\":\"1553\"},{\"id\":\"1583\"}],\"tags\":[\"hv_created\"],\"tooltips\":[[\"class\",\"@{class}\"],[\"Annual Income\",\"@{Annual_Income}\"],[\"Spending Score (1-100)\",\"@{Spending_Score_left_parenthesis_1_hyphen_minus_100_right_parenthesis}\"]]},\"id\":\"1383\",\"type\":\"HoverTool\"},{\"attributes\":{},\"id\":\"1425\",\"type\":\"AllLabels\"},{\"attributes\":{\"data_source\":{\"id\":\"1426\"},\"glyph\":{\"id\":\"1429\"},\"hover_glyph\":null,\"muted_glyph\":{\"id\":\"1431\"},\"nonselection_glyph\":{\"id\":\"1430\"},\"selection_glyph\":{\"id\":\"1446\"},\"view\":{\"id\":\"1433\"}},\"id\":\"1432\",\"type\":\"GlyphRenderer\"},{\"attributes\":{\"axis_label\":\"Annual Income\",\"formatter\":{\"id\":\"1420\"},\"major_label_policy\":{\"id\":\"1422\"},\"ticker\":{\"id\":\"1400\"}},\"id\":\"1399\",\"type\":\"LinearAxis\"},{\"attributes\":{\"label\":{\"value\":\"0\"},\"renderers\":[{\"id\":\"1432\"}]},\"id\":\"1445\",\"type\":\"LegendItem\"},{\"attributes\":{},\"id\":\"1420\",\"type\":\"BasicTickFormatter\"},{\"attributes\":{\"data\":{\"Annual Income\":{\"__ndarray__\":\"AAAAAAAAQ0AAAAAAAABEQAAAAAAAAEVAAAAAAACARUAAAAAAAIBFQAAAAAAAgEVAAAAAAAAARkAAAAAAAABGQAAAAAAAAEdAAAAAAAAAR0AAAAAAAIBHQAAAAAAAgEdAAAAAAAAASEAAAAAAAABIQAAAAAAAAEhAAAAAAACASEAAAAAAAIBIQAAAAAAAAElAAAAAAAAASUAAAAAAAABLQAAAAAAAAEtAAAAAAAAAS0AAAAAAAABLQAAAAAAAAEtAAAAAAAAAS0AAAAAAAABLQAAAAAAAgExAAAAAAAAATUAAAAAAAIBNQAAAAAAAAE5AAAAAAAAATkAAAAAAAIBOQAAAAAAAAE9AAAAAAAAAT0AAAAAAAABPQAAAAAAAgE9AAAAAAACAT0AAAAAAAIBPQAAAAAAAgE9AAAAAAACAT0AAAAAAAEBQQAAAAAAAQFBAAAAAAADAUEAAAAAAAMBQQA==\",\"dtype\":\"float64\",\"order\":\"little\",\"shape\":[44]},\"Annual_Income\":{\"__ndarray__\":\"AAAAAAAAQ0AAAAAAAABEQAAAAAAAAEVAAAAAAACARUAAAAAAAIBFQAAAAAAAgEVAAAAAAAAARkAAAAAAAABGQAAAAAAAAEdAAAAAAAAAR0AAAAAAAIBHQAAAAAAAgEdAAAAAAAAASEAAAAAAAABIQAAAAAAAAEhAAAAAAACASEAAAAAAAIBIQAAAAAAAAElAAAAAAAAASUAAAAAAAABLQAAAAAAAAEtAAAAAAAAAS0AAAAAAAABLQAAAAAAAAEtAAAAAAAAAS0AAAAAAAABLQAAAAAAAgExAAAAAAAAATUAAAAAAAIBNQAAAAAAAAE5AAAAAAAAATkAAAAAAAIBOQAAAAAAAAE9AAAAAAAAAT0AAAAAAAABPQAAAAAAAgE9AAAAAAACAT0AAAAAAAIBPQAAAAAAAgE9AAAAAAACAT0AAAAAAAEBQQAAAAAAAQFBAAAAAAADAUEAAAAAAAMBQQA==\",\"dtype\":\"float64\",\"order\":\"little\",\"shape\":[44]},\"Spending Score (1-100)\":{\"__ndarray__\":\"AAAAAACAQUAAAAAAAIBLQAAAAAAAAEpAAAAAAAAATkAAAAAAAIBGQAAAAAAAgERAAAAAAAAASUAAAAAAAABHQAAAAAAAAEdAAAAAAAAATEAAAAAAAABKQAAAAAAAgE1AAAAAAACASUAAAAAAAABJQAAAAAAAAEhAAAAAAACAS0AAAAAAAABFQAAAAAAAgEhAAAAAAAAATEAAAAAAAIBHQAAAAAAAgEpAAAAAAAAARUAAAAAAAIBJQAAAAAAAgERAAAAAAAAARkAAAAAAAABHQAAAAAAAAE1AAAAAAAAAR0AAAAAAAIBLQAAAAAAAgEhAAAAAAACAR0AAAAAAAABFQAAAAAAAAEhAAAAAAACATUAAAAAAAABMQAAAAAAAAElAAAAAAAAAR0AAAAAAAIBFQAAAAAAAAEhAAAAAAAAASkAAAAAAAIBFQAAAAAAAgE1AAAAAAACARUAAAAAAAIBMQA==\",\"dtype\":\"float64\",\"order\":\"little\",\"shape\":[44]},\"Spending_Score_left_parenthesis_1_hyphen_minus_100_right_parenthesis\":{\"__ndarray__\":\"AAAAAACAQUAAAAAAAIBLQAAAAAAAAEpAAAAAAAAATkAAAAAAAIBGQAAAAAAAgERAAAAAAAAASUAAAAAAAABHQAAAAAAAAEdAAAAAAAAATEAAAAAAAABKQAAAAAAAgE1AAAAAAACASUAAAAAAAABJQAAAAAAAAEhAAAAAAACAS0AAAAAAAABFQAAAAAAAgEhAAAAAAAAATEAAAAAAAIBHQAAAAAAAgEpAAAAAAAAARUAAAAAAAIBJQAAAAAAAgERAAAAAAAAARkAAAAAAAABHQAAAAAAAAE1AAAAAAAAAR0AAAAAAAIBLQAAAAAAAgEhAAAAAAACAR0AAAAAAAABFQAAAAAAAAEhAAAAAAACATUAAAAAAAABMQAAAAAAAAElAAAAAAAAAR0AAAAAAAIBFQAAAAAAAAEhAAAAAAAAASkAAAAAAAIBFQAAAAAAAgE1AAAAAAACARUAAAAAAAIBMQA==\",\"dtype\":\"float64\",\"order\":\"little\",\"shape\":[44]},\"class\":[0,0,0,0,0,0,0,0,0,0,0,0,0,0,0,0,0,0,0,0,0,0,0,0,0,0,0,0,0,0,0,0,0,0,0,0,0,0,0,0,0,0,0,0]},\"selected\":{\"id\":\"1427\"},\"selection_policy\":{\"id\":\"1441\"}},\"id\":\"1426\",\"type\":\"ColumnDataSource\"},{\"attributes\":{\"fill_alpha\":{\"value\":0.2},\"fill_color\":{\"value\":\"#30a2da\"},\"line_alpha\":{\"value\":0.2},\"line_color\":{\"value\":\"#30a2da\"},\"size\":{\"value\":5.477225575051661},\"x\":{\"field\":\"Annual Income\"},\"y\":{\"field\":\"Spending Score (1-100)\"}},\"id\":\"1431\",\"type\":\"Scatter\"},{\"attributes\":{},\"id\":\"1395\",\"type\":\"LinearScale\"},{\"attributes\":{\"data\":{\"Annual Income\":{\"__ndarray__\":\"AAAAAAAALkAAAAAAAAAwQAAAAAAAADFAAAAAAAAAMkAAAAAAAAAzQAAAAAAAADNAAAAAAAAANEAAAAAAAAA0QAAAAAAAADVAAAAAAAAAN0AAAAAAAAA4QAAAAAAAADlAAAAAAAAAPEAAAAAAAAA8QAAAAAAAAD1AAAAAAAAAPkAAAAAAAIBAQAAAAAAAgEBAAAAAAAAAQUAAAAAAAIBCQAAAAAAAgENAAAAAAACAQ0A=\",\"dtype\":\"float64\",\"order\":\"little\",\"shape\":[22]},\"Annual_Income\":{\"__ndarray__\":\"AAAAAAAALkAAAAAAAAAwQAAAAAAAADFAAAAAAAAAMkAAAAAAAAAzQAAAAAAAADNAAAAAAAAANEAAAAAAAAA0QAAAAAAAADVAAAAAAAAAN0AAAAAAAAA4QAAAAAAAADlAAAAAAAAAPEAAAAAAAAA8QAAAAAAAAD1AAAAAAAAAPkAAAAAAAIBAQAAAAAAAgEBAAAAAAAAAQUAAAAAAAIBCQAAAAAAAgENAAAAAAACAQ0A=\",\"dtype\":\"float64\",\"order\":\"little\",\"shape\":[22]},\"Spending Score (1-100)\":{\"__ndarray__\":\"AAAAAACAQ0AAAAAAAAAYQAAAAAAAAERAAAAAAAAAGEAAAAAAAAAIQAAAAAAAACxAAAAAAAAALkAAAAAAAAAqQAAAAAAAgEFAAAAAAAAAPUAAAAAAAIBBQAAAAAAAABRAAAAAAAAALEAAAAAAAABAQAAAAAAAAD9AAAAAAAAAEEAAAAAAAAAQQAAAAAAAACxAAAAAAAAAMUAAAAAAAAA6QAAAAAAAAEJAAAAAAAAAPEA=\",\"dtype\":\"float64\",\"order\":\"little\",\"shape\":[22]},\"Spending_Score_left_parenthesis_1_hyphen_minus_100_right_parenthesis\":{\"__ndarray__\":\"AAAAAACAQ0AAAAAAAAAYQAAAAAAAAERAAAAAAAAAGEAAAAAAAAAIQAAAAAAAACxAAAAAAAAALkAAAAAAAAAqQAAAAAAAgEFAAAAAAAAAPUAAAAAAAIBBQAAAAAAAABRAAAAAAAAALEAAAAAAAABAQAAAAAAAAD9AAAAAAAAAEEAAAAAAAAAQQAAAAAAAACxAAAAAAAAAMUAAAAAAAAA6QAAAAAAAAEJAAAAAAAAAPEA=\",\"dtype\":\"float64\",\"order\":\"little\",\"shape\":[22]},\"class\":[5,5,5,5,5,5,5,5,5,5,5,5,5,5,5,5,5,5,5,5,5,5]},\"selected\":{\"id\":\"1548\"},\"selection_policy\":{\"id\":\"1572\"}},\"id\":\"1547\",\"type\":\"ColumnDataSource\"},{\"attributes\":{\"axis\":{\"id\":\"1399\"},\"grid_line_color\":null,\"ticker\":null},\"id\":\"1402\",\"type\":\"Grid\"},{\"attributes\":{\"fill_color\":{\"value\":\"#8b8b8b\"},\"line_color\":{\"value\":\"#8b8b8b\"},\"size\":{\"value\":5.477225575051661},\"x\":{\"field\":\"Annual Income\"},\"y\":{\"field\":\"Spending Score (1-100)\"}},\"id\":\"1522\",\"type\":\"Scatter\"},{\"attributes\":{},\"id\":\"1423\",\"type\":\"BasicTickFormatter\"},{\"attributes\":{\"data_source\":{\"id\":\"1519\"},\"glyph\":{\"id\":\"1522\"},\"hover_glyph\":null,\"muted_glyph\":{\"id\":\"1524\"},\"nonselection_glyph\":{\"id\":\"1523\"},\"selection_glyph\":{\"id\":\"1546\"},\"view\":{\"id\":\"1526\"}},\"id\":\"1525\",\"type\":\"GlyphRenderer\"},{\"attributes\":{\"text_color\":\"black\",\"text_font_size\":\"12pt\"},\"id\":\"1391\",\"type\":\"Title\"},{\"attributes\":{\"fill_alpha\":{\"value\":0.1},\"fill_color\":{\"value\":\"#8b8b8b\"},\"line_alpha\":{\"value\":0.1},\"line_color\":{\"value\":\"#8b8b8b\"},\"size\":{\"value\":5.477225575051661},\"x\":{\"field\":\"Annual Income\"},\"y\":{\"field\":\"Spending Score (1-100)\"}},\"id\":\"1523\",\"type\":\"Scatter\"},{\"attributes\":{\"fill_alpha\":{\"value\":0.1},\"fill_color\":{\"value\":\"#fc4f30\"},\"line_alpha\":{\"value\":0.1},\"line_color\":{\"value\":\"#fc4f30\"},\"size\":{\"value\":5.477225575051661},\"x\":{\"field\":\"Annual Income\"},\"y\":{\"field\":\"Spending Score (1-100)\"}},\"id\":\"1451\",\"type\":\"Scatter\"},{\"attributes\":{},\"id\":\"1400\",\"type\":\"BasicTicker\"},{\"attributes\":{\"angle\":{\"value\":0.0},\"fill_alpha\":{\"value\":1.0},\"fill_color\":{\"value\":\"#fc4f30\"},\"hatch_alpha\":{\"value\":1.0},\"hatch_color\":{\"value\":\"black\"},\"hatch_scale\":{\"value\":12.0},\"hatch_weight\":{\"value\":1.0},\"line_alpha\":{\"value\":1.0},\"line_cap\":{\"value\":\"butt\"},\"line_color\":{\"value\":\"#fc4f30\"},\"line_dash\":{\"value\":[]},\"line_dash_offset\":{\"value\":0},\"line_join\":{\"value\":\"bevel\"},\"line_width\":{\"value\":1},\"marker\":{\"value\":\"circle\"},\"size\":{\"value\":5.477225575051661},\"x\":{\"field\":\"Annual Income\"},\"y\":{\"field\":\"Spending Score (1-100)\"}},\"id\":\"1468\",\"type\":\"Scatter\"},{\"attributes\":{\"data\":{\"Annual Income\":{\"__ndarray__\":\"AAAAAADAUUAAAAAAAMBRQAAAAAAAwFFAAAAAAABAUkAAAAAAAEBSQAAAAAAAgFJAAAAAAADAUkAAAAAAAEBTQAAAAAAAQFNAAAAAAACAU0AAAAAAAIBTQAAAAAAAgFNAAAAAAACAU0AAAAAAAIBTQAAAAAAAgFNAAAAAAADAU0AAAAAAAEBUQAAAAAAAQFVAAAAAAACAVUAAAAAAAMBVQAAAAAAAwFVAAAAAAADAVUAAAAAAAABWQAAAAAAAAFZAAAAAAABAV0AAAAAAAEBYQAAAAAAAgFhAAAAAAADAWEAAAAAAAEBZQAAAAAAAwFlAAAAAAADAWUAAAAAAAEBcQAAAAAAAAF5AAAAAAACAX0AAAAAAACBhQA==\",\"dtype\":\"float64\",\"order\":\"little\",\"shape\":[35]},\"Annual_Income\":{\"__ndarray__\":\"AAAAAADAUUAAAAAAAMBRQAAAAAAAwFFAAAAAAABAUkAAAAAAAEBSQAAAAAAAgFJAAAAAAADAUkAAAAAAAEBTQAAAAAAAQFNAAAAAAACAU0AAAAAAAIBTQAAAAAAAgFNAAAAAAACAU0AAAAAAAIBTQAAAAAAAgFNAAAAAAADAU0AAAAAAAEBUQAAAAAAAQFVAAAAAAACAVUAAAAAAAMBVQAAAAAAAwFVAAAAAAADAVUAAAAAAAABWQAAAAAAAAFZAAAAAAABAV0AAAAAAAEBYQAAAAAAAgFhAAAAAAADAWEAAAAAAAEBZQAAAAAAAwFlAAAAAAADAWUAAAAAAAEBcQAAAAAAAAF5AAAAAAACAX0AAAAAAACBhQA==\",\"dtype\":\"float64\",\"order\":\"little\",\"shape\":[35]},\"Spending Score (1-100)\":{\"__ndarray__\":\"AAAAAACAQUAAAAAAAAAmQAAAAAAAACJAAAAAAAAAFEAAAAAAAAAcQAAAAAAAACRAAAAAAAAAFEAAAAAAAAAoQAAAAAAAAEJAAAAAAAAANkAAAAAAAAAxQAAAAAAAADRAAAAAAAAAMEAAAAAAAADwPwAAAAAAAPA/AAAAAACAQUAAAAAAAAAUQAAAAAAAADpAAAAAAAAANEAAAAAAAAA7QAAAAAAAACpAAAAAAAAAJEAAAAAAAAAqQAAAAAAAAC5AAAAAAAAALEAAAAAAAABAQAAAAAAAAC5AAAAAAACAQ0AAAAAAAAA4QAAAAAAAADFAAAAAAAAAN0AAAAAAAAAgQAAAAAAAADBAAAAAAAAAPEAAAAAAAAAyQA==\",\"dtype\":\"float64\",\"order\":\"little\",\"shape\":[35]},\"Spending_Score_left_parenthesis_1_hyphen_minus_100_right_parenthesis\":{\"__ndarray__\":\"AAAAAACAQUAAAAAAAAAmQAAAAAAAACJAAAAAAAAAFEAAAAAAAAAcQAAAAAAAACRAAAAAAAAAFEAAAAAAAAAoQAAAAAAAAEJAAAAAAAAANkAAAAAAAAAxQAAAAAAAADRAAAAAAAAAMEAAAAAAAADwPwAAAAAAAPA/AAAAAACAQUAAAAAAAAAUQAAAAAAAADpAAAAAAAAANEAAAAAAAAA7QAAAAAAAACpAAAAAAAAAJEAAAAAAAAAqQAAAAAAAAC5AAAAAAAAALEAAAAAAAABAQAAAAAAAAC5AAAAAAACAQ0AAAAAAAAA4QAAAAAAAADFAAAAAAAAAN0AAAAAAAAAgQAAAAAAAADBAAAAAAAAAPEAAAAAAAAAyQA==\",\"dtype\":\"float64\",\"order\":\"little\",\"shape\":[35]},\"class\":[2,2,2,2,2,2,2,2,2,2,2,2,2,2,2,2,2,2,2,2,2,2,2,2,2,2,2,2,2,2,2,2,2,2,2]},\"selected\":{\"id\":\"1470\"},\"selection_policy\":{\"id\":\"1488\"}},\"id\":\"1469\",\"type\":\"ColumnDataSource\"}],\"root_ids\":[\"1379\"]},\"title\":\"Bokeh Application\",\"version\":\"2.3.2\"}};\n",
       "    var render_items = [{\"docid\":\"14f24366-cccf-45ca-8346-0aa171bfae2e\",\"root_ids\":[\"1379\"],\"roots\":{\"1379\":\"1ca51b0d-5627-4762-97ed-8046707db642\"}}];\n",
       "    root.Bokeh.embed.embed_items_notebook(docs_json, render_items);\n",
       "  }\n",
       "  if (root.Bokeh !== undefined && root.Bokeh.Panel !== undefined) {\n",
       "    embed_document(root);\n",
       "  } else {\n",
       "    var attempts = 0;\n",
       "    var timer = setInterval(function(root) {\n",
       "      if (root.Bokeh !== undefined && root.Bokeh.Panel !== undefined) {\n",
       "        clearInterval(timer);\n",
       "        embed_document(root);\n",
       "      } else if (document.readyState == \"complete\") {\n",
       "        attempts++;\n",
       "        if (attempts > 200) {\n",
       "          clearInterval(timer);\n",
       "          console.log(\"Bokeh: ERROR: Unable to run BokehJS code because BokehJS library is missing\");\n",
       "        }\n",
       "      }\n",
       "    }, 25, root)\n",
       "  }\n",
       "})(window);</script>"
      ],
      "text/plain": [
       ":NdOverlay   [class]\n",
       "   :Scatter   [Annual Income]   (Spending Score (1-100))"
      ]
     },
     "execution_count": 8,
     "metadata": {
      "application/vnd.holoviews_exec.v0+json": {
       "id": "1379"
      }
     },
     "output_type": "execute_result"
    }
   ],
   "source": [
    "test_cluster_amount(shopping_df, 7)\n",
    "shopping_df.hvplot.scatter(x=\"Annual Income\", y=\"Spending Score (1-100)\", by=\"class\")"
   ]
  },
  {
   "cell_type": "code",
   "execution_count": 9,
   "metadata": {},
   "outputs": [
    {
     "data": {
      "application/vnd.plotly.v1+json": {
       "config": {
        "plotlyServerURL": "https://plot.ly"
       },
       "data": [
        {
         "hovertemplate": "class=%{marker.color}<br>Annual Income=%{x}<br>Spending Score (1-100)=%{y}<br>Age=%{z}<extra></extra>",
         "legendgroup": "5",
         "marker": {
          "color": [
           5,
           5,
           5,
           5,
           5,
           5,
           5,
           5,
           5,
           5,
           5,
           5,
           5,
           5,
           5,
           5,
           5,
           5,
           5,
           5,
           5,
           5
          ],
          "coloraxis": "coloraxis",
          "symbol": "circle"
         },
         "mode": "markers",
         "name": "5",
         "scene": "scene",
         "showlegend": true,
         "type": "scatter3d",
         "x": [
          15,
          16,
          17,
          18,
          19,
          19,
          20,
          20,
          21,
          23,
          24,
          25,
          28,
          28,
          29,
          30,
          33,
          33,
          34,
          37,
          39,
          39
         ],
         "y": [
          39,
          6,
          40,
          6,
          3,
          14,
          15,
          13,
          35,
          29,
          35,
          5,
          14,
          32,
          31,
          4,
          4,
          14,
          17,
          26,
          36,
          28
         ],
         "z": [
          19,
          20,
          31,
          35,
          64,
          67,
          58,
          37,
          35,
          52,
          35,
          46,
          54,
          45,
          40,
          60,
          53,
          49,
          42,
          36,
          48,
          49
         ]
        },
        {
         "hovertemplate": "class=%{marker.color}<br>Annual Income=%{x}<br>Spending Score (1-100)=%{y}<br>Age=%{z}<extra></extra>",
         "legendgroup": "4",
         "marker": {
          "color": [
           4,
           4,
           4,
           4,
           4,
           4,
           4,
           4,
           4,
           4,
           4,
           4,
           4,
           4,
           4,
           4,
           4,
           4,
           4,
           4,
           4,
           4
          ],
          "coloraxis": "coloraxis",
          "symbol": "diamond"
         },
         "mode": "markers",
         "name": "4",
         "scene": "scene",
         "showlegend": true,
         "type": "scatter3d",
         "x": [
          15,
          16,
          17,
          18,
          19,
          19,
          20,
          20,
          21,
          23,
          24,
          25,
          28,
          28,
          29,
          30,
          33,
          33,
          34,
          37,
          38,
          39
         ],
         "y": [
          81,
          77,
          76,
          94,
          72,
          99,
          77,
          79,
          66,
          98,
          73,
          73,
          82,
          61,
          87,
          73,
          92,
          81,
          73,
          75,
          92,
          65
         ],
         "z": [
          21,
          23,
          22,
          23,
          30,
          35,
          24,
          22,
          20,
          35,
          25,
          31,
          29,
          35,
          23,
          21,
          18,
          21,
          30,
          20,
          24,
          24
         ]
        },
        {
         "hovertemplate": "class=%{marker.color}<br>Annual Income=%{x}<br>Spending Score (1-100)=%{y}<br>Age=%{z}<extra></extra>",
         "legendgroup": "0",
         "marker": {
          "color": [
           0,
           0,
           0,
           0,
           0,
           0,
           0,
           0,
           0,
           0,
           0,
           0,
           0,
           0,
           0,
           0,
           0,
           0,
           0,
           0,
           0,
           0,
           0,
           0,
           0,
           0,
           0,
           0,
           0,
           0,
           0,
           0,
           0,
           0,
           0,
           0,
           0,
           0,
           0,
           0,
           0,
           0,
           0,
           0
          ],
          "coloraxis": "coloraxis",
          "symbol": "square"
         },
         "mode": "markers",
         "name": "0",
         "scene": "scene",
         "showlegend": true,
         "type": "scatter3d",
         "x": [
          38,
          40,
          42,
          43,
          43,
          43,
          44,
          44,
          46,
          46,
          47,
          47,
          48,
          48,
          48,
          49,
          49,
          50,
          50,
          54,
          54,
          54,
          54,
          54,
          54,
          54,
          57,
          58,
          59,
          60,
          60,
          61,
          62,
          62,
          62,
          63,
          63,
          63,
          63,
          63,
          65,
          65,
          67,
          67
         ],
         "y": [
          35,
          55,
          52,
          60,
          45,
          41,
          50,
          46,
          46,
          56,
          52,
          59,
          51,
          50,
          48,
          55,
          42,
          49,
          56,
          47,
          53,
          42,
          51,
          41,
          44,
          46,
          58,
          46,
          55,
          49,
          47,
          42,
          48,
          59,
          56,
          50,
          46,
          43,
          48,
          52,
          43,
          59,
          43,
          57
         ],
         "z": [
          65,
          50,
          49,
          59,
          50,
          47,
          51,
          69,
          53,
          70,
          67,
          54,
          63,
          43,
          68,
          70,
          47,
          60,
          60,
          59,
          45,
          49,
          57,
          67,
          46,
          48,
          55,
          50,
          68,
          48,
          47,
          48,
          49,
          67,
          49,
          66,
          54,
          68,
          66,
          65,
          63,
          49,
          51,
          50
         ]
        },
        {
         "hovertemplate": "class=%{marker.color}<br>Annual Income=%{x}<br>Spending Score (1-100)=%{y}<br>Age=%{z}<extra></extra>",
         "legendgroup": "3",
         "marker": {
          "color": [
           3,
           3,
           3,
           3,
           3,
           3,
           3,
           3,
           3,
           3,
           3,
           3,
           3,
           3,
           3,
           3,
           3,
           3,
           3,
           3,
           3,
           3,
           3,
           3,
           3,
           3,
           3,
           3,
           3,
           3,
           3,
           3,
           3,
           3,
           3,
           3,
           3,
           3
          ],
          "coloraxis": "coloraxis",
          "symbol": "x"
         },
         "mode": "markers",
         "name": "3",
         "scene": "scene",
         "showlegend": true,
         "type": "scatter3d",
         "x": [
          39,
          40,
          40,
          40,
          42,
          43,
          46,
          46,
          48,
          48,
          48,
          54,
          54,
          54,
          54,
          54,
          57,
          58,
          59,
          60,
          60,
          60,
          60,
          61,
          62,
          62,
          62,
          63,
          64,
          64,
          65,
          65,
          67,
          67,
          69,
          70,
          72,
          76
         ],
         "y": [
          61,
          47,
          42,
          42,
          60,
          54,
          51,
          55,
          59,
          59,
          47,
          54,
          48,
          52,
          55,
          57,
          55,
          60,
          41,
          40,
          42,
          52,
          50,
          49,
          41,
          55,
          42,
          54,
          42,
          46,
          48,
          50,
          56,
          40,
          58,
          29,
          34,
          40
         ],
         "z": [
          31,
          27,
          29,
          31,
          33,
          31,
          27,
          19,
          18,
          19,
          32,
          26,
          40,
          23,
          38,
          21,
          22,
          34,
          18,
          40,
          32,
          24,
          27,
          20,
          23,
          26,
          21,
          19,
          38,
          19,
          18,
          19,
          27,
          38,
          40,
          23,
          25,
          28
         ]
        },
        {
         "hovertemplate": "class=%{marker.color}<br>Annual Income=%{x}<br>Spending Score (1-100)=%{y}<br>Age=%{z}<extra></extra>",
         "legendgroup": "6",
         "marker": {
          "color": [
           6,
           6,
           6,
           6,
           6,
           6,
           6,
           6,
           6,
           6,
           6,
           6,
           6,
           6,
           6,
           6,
           6,
           6,
           6,
           6,
           6,
           6,
           6,
           6,
           6,
           6,
           6,
           6
          ],
          "coloraxis": "coloraxis",
          "symbol": "cross"
         },
         "mode": "markers",
         "name": "6",
         "scene": "scene",
         "showlegend": true,
         "type": "scatter3d",
         "x": [
          69,
          70,
          71,
          71,
          71,
          72,
          73,
          73,
          74,
          75,
          76,
          77,
          77,
          78,
          78,
          78,
          78,
          78,
          78,
          79,
          81,
          85,
          86,
          87,
          87,
          87,
          88,
          88
         ],
         "y": [
          91,
          77,
          95,
          75,
          75,
          71,
          88,
          73,
          72,
          93,
          87,
          97,
          74,
          90,
          88,
          76,
          89,
          78,
          73,
          83,
          93,
          75,
          95,
          63,
          75,
          92,
          86,
          69
         ],
         "z": [
          39,
          31,
          40,
          38,
          39,
          31,
          29,
          32,
          35,
          32,
          32,
          28,
          32,
          34,
          39,
          38,
          27,
          30,
          30,
          29,
          31,
          36,
          33,
          32,
          28,
          36,
          30,
          27
         ]
        },
        {
         "hovertemplate": "class=%{marker.color}<br>Annual Income=%{x}<br>Spending Score (1-100)=%{y}<br>Age=%{z}<extra></extra>",
         "legendgroup": "2",
         "marker": {
          "color": [
           2,
           2,
           2,
           2,
           2,
           2,
           2,
           2,
           2,
           2,
           2,
           2,
           2,
           2,
           2,
           2,
           2,
           2,
           2,
           2,
           2,
           2,
           2,
           2,
           2,
           2,
           2,
           2,
           2,
           2,
           2,
           2,
           2,
           2,
           2
          ],
          "coloraxis": "coloraxis",
          "symbol": "circle"
         },
         "mode": "markers",
         "name": "2",
         "scene": "scene",
         "showlegend": true,
         "type": "scatter3d",
         "x": [
          71,
          71,
          71,
          73,
          73,
          74,
          75,
          77,
          77,
          78,
          78,
          78,
          78,
          78,
          78,
          79,
          81,
          85,
          86,
          87,
          87,
          87,
          88,
          88,
          93,
          97,
          98,
          99,
          101,
          103,
          103,
          113,
          120,
          126,
          137
         ],
         "y": [
          35,
          11,
          9,
          5,
          7,
          10,
          5,
          12,
          36,
          22,
          17,
          20,
          16,
          1,
          1,
          35,
          5,
          26,
          20,
          27,
          13,
          10,
          13,
          15,
          14,
          32,
          15,
          39,
          24,
          17,
          23,
          8,
          16,
          28,
          18
         ],
         "z": [
          43,
          59,
          47,
          20,
          44,
          19,
          57,
          25,
          48,
          34,
          43,
          44,
          47,
          37,
          34,
          56,
          19,
          50,
          42,
          36,
          40,
          36,
          52,
          58,
          59,
          37,
          46,
          41,
          54,
          41,
          34,
          33,
          47,
          45,
          32
         ]
        },
        {
         "hovertemplate": "class=%{marker.color}<br>Annual Income=%{x}<br>Spending Score (1-100)=%{y}<br>Age=%{z}<extra></extra>",
         "legendgroup": "1",
         "marker": {
          "color": [
           1,
           1,
           1,
           1,
           1,
           1,
           1,
           1,
           1,
           1,
           1
          ],
          "coloraxis": "coloraxis",
          "symbol": "diamond"
         },
         "mode": "markers",
         "name": "1",
         "scene": "scene",
         "showlegend": true,
         "type": "scatter3d",
         "x": [
          93,
          97,
          98,
          99,
          101,
          103,
          103,
          113,
          120,
          126,
          137
         ],
         "y": [
          90,
          86,
          88,
          97,
          68,
          85,
          69,
          91,
          79,
          74,
          83
         ],
         "z": [
          35,
          32,
          29,
          30,
          28,
          36,
          32,
          38,
          35,
          32,
          30
         ]
        }
       ],
       "layout": {
        "coloraxis": {
         "colorbar": {
          "title": {
           "text": "class"
          }
         },
         "colorscale": [
          [
           0,
           "#0d0887"
          ],
          [
           0.1111111111111111,
           "#46039f"
          ],
          [
           0.2222222222222222,
           "#7201a8"
          ],
          [
           0.3333333333333333,
           "#9c179e"
          ],
          [
           0.4444444444444444,
           "#bd3786"
          ],
          [
           0.5555555555555556,
           "#d8576b"
          ],
          [
           0.6666666666666666,
           "#ed7953"
          ],
          [
           0.7777777777777778,
           "#fb9f3a"
          ],
          [
           0.8888888888888888,
           "#fdca26"
          ],
          [
           1,
           "#f0f921"
          ]
         ]
        },
        "legend": {
         "title": {
          "text": "class"
         },
         "tracegroupgap": 0,
         "x": 0,
         "y": 1
        },
        "margin": {
         "t": 60
        },
        "scene": {
         "domain": {
          "x": [
           0,
           1
          ],
          "y": [
           0,
           1
          ]
         },
         "xaxis": {
          "title": {
           "text": "Annual Income"
          }
         },
         "yaxis": {
          "title": {
           "text": "Spending Score (1-100)"
          }
         },
         "zaxis": {
          "title": {
           "text": "Age"
          }
         }
        },
        "template": {
         "data": {
          "bar": [
           {
            "error_x": {
             "color": "#2a3f5f"
            },
            "error_y": {
             "color": "#2a3f5f"
            },
            "marker": {
             "line": {
              "color": "#E5ECF6",
              "width": 0.5
             },
             "pattern": {
              "fillmode": "overlay",
              "size": 10,
              "solidity": 0.2
             }
            },
            "type": "bar"
           }
          ],
          "barpolar": [
           {
            "marker": {
             "line": {
              "color": "#E5ECF6",
              "width": 0.5
             },
             "pattern": {
              "fillmode": "overlay",
              "size": 10,
              "solidity": 0.2
             }
            },
            "type": "barpolar"
           }
          ],
          "carpet": [
           {
            "aaxis": {
             "endlinecolor": "#2a3f5f",
             "gridcolor": "white",
             "linecolor": "white",
             "minorgridcolor": "white",
             "startlinecolor": "#2a3f5f"
            },
            "baxis": {
             "endlinecolor": "#2a3f5f",
             "gridcolor": "white",
             "linecolor": "white",
             "minorgridcolor": "white",
             "startlinecolor": "#2a3f5f"
            },
            "type": "carpet"
           }
          ],
          "choropleth": [
           {
            "colorbar": {
             "outlinewidth": 0,
             "ticks": ""
            },
            "type": "choropleth"
           }
          ],
          "contour": [
           {
            "colorbar": {
             "outlinewidth": 0,
             "ticks": ""
            },
            "colorscale": [
             [
              0,
              "#0d0887"
             ],
             [
              0.1111111111111111,
              "#46039f"
             ],
             [
              0.2222222222222222,
              "#7201a8"
             ],
             [
              0.3333333333333333,
              "#9c179e"
             ],
             [
              0.4444444444444444,
              "#bd3786"
             ],
             [
              0.5555555555555556,
              "#d8576b"
             ],
             [
              0.6666666666666666,
              "#ed7953"
             ],
             [
              0.7777777777777778,
              "#fb9f3a"
             ],
             [
              0.8888888888888888,
              "#fdca26"
             ],
             [
              1,
              "#f0f921"
             ]
            ],
            "type": "contour"
           }
          ],
          "contourcarpet": [
           {
            "colorbar": {
             "outlinewidth": 0,
             "ticks": ""
            },
            "type": "contourcarpet"
           }
          ],
          "heatmap": [
           {
            "colorbar": {
             "outlinewidth": 0,
             "ticks": ""
            },
            "colorscale": [
             [
              0,
              "#0d0887"
             ],
             [
              0.1111111111111111,
              "#46039f"
             ],
             [
              0.2222222222222222,
              "#7201a8"
             ],
             [
              0.3333333333333333,
              "#9c179e"
             ],
             [
              0.4444444444444444,
              "#bd3786"
             ],
             [
              0.5555555555555556,
              "#d8576b"
             ],
             [
              0.6666666666666666,
              "#ed7953"
             ],
             [
              0.7777777777777778,
              "#fb9f3a"
             ],
             [
              0.8888888888888888,
              "#fdca26"
             ],
             [
              1,
              "#f0f921"
             ]
            ],
            "type": "heatmap"
           }
          ],
          "heatmapgl": [
           {
            "colorbar": {
             "outlinewidth": 0,
             "ticks": ""
            },
            "colorscale": [
             [
              0,
              "#0d0887"
             ],
             [
              0.1111111111111111,
              "#46039f"
             ],
             [
              0.2222222222222222,
              "#7201a8"
             ],
             [
              0.3333333333333333,
              "#9c179e"
             ],
             [
              0.4444444444444444,
              "#bd3786"
             ],
             [
              0.5555555555555556,
              "#d8576b"
             ],
             [
              0.6666666666666666,
              "#ed7953"
             ],
             [
              0.7777777777777778,
              "#fb9f3a"
             ],
             [
              0.8888888888888888,
              "#fdca26"
             ],
             [
              1,
              "#f0f921"
             ]
            ],
            "type": "heatmapgl"
           }
          ],
          "histogram": [
           {
            "marker": {
             "pattern": {
              "fillmode": "overlay",
              "size": 10,
              "solidity": 0.2
             }
            },
            "type": "histogram"
           }
          ],
          "histogram2d": [
           {
            "colorbar": {
             "outlinewidth": 0,
             "ticks": ""
            },
            "colorscale": [
             [
              0,
              "#0d0887"
             ],
             [
              0.1111111111111111,
              "#46039f"
             ],
             [
              0.2222222222222222,
              "#7201a8"
             ],
             [
              0.3333333333333333,
              "#9c179e"
             ],
             [
              0.4444444444444444,
              "#bd3786"
             ],
             [
              0.5555555555555556,
              "#d8576b"
             ],
             [
              0.6666666666666666,
              "#ed7953"
             ],
             [
              0.7777777777777778,
              "#fb9f3a"
             ],
             [
              0.8888888888888888,
              "#fdca26"
             ],
             [
              1,
              "#f0f921"
             ]
            ],
            "type": "histogram2d"
           }
          ],
          "histogram2dcontour": [
           {
            "colorbar": {
             "outlinewidth": 0,
             "ticks": ""
            },
            "colorscale": [
             [
              0,
              "#0d0887"
             ],
             [
              0.1111111111111111,
              "#46039f"
             ],
             [
              0.2222222222222222,
              "#7201a8"
             ],
             [
              0.3333333333333333,
              "#9c179e"
             ],
             [
              0.4444444444444444,
              "#bd3786"
             ],
             [
              0.5555555555555556,
              "#d8576b"
             ],
             [
              0.6666666666666666,
              "#ed7953"
             ],
             [
              0.7777777777777778,
              "#fb9f3a"
             ],
             [
              0.8888888888888888,
              "#fdca26"
             ],
             [
              1,
              "#f0f921"
             ]
            ],
            "type": "histogram2dcontour"
           }
          ],
          "mesh3d": [
           {
            "colorbar": {
             "outlinewidth": 0,
             "ticks": ""
            },
            "type": "mesh3d"
           }
          ],
          "parcoords": [
           {
            "line": {
             "colorbar": {
              "outlinewidth": 0,
              "ticks": ""
             }
            },
            "type": "parcoords"
           }
          ],
          "pie": [
           {
            "automargin": true,
            "type": "pie"
           }
          ],
          "scatter": [
           {
            "marker": {
             "colorbar": {
              "outlinewidth": 0,
              "ticks": ""
             }
            },
            "type": "scatter"
           }
          ],
          "scatter3d": [
           {
            "line": {
             "colorbar": {
              "outlinewidth": 0,
              "ticks": ""
             }
            },
            "marker": {
             "colorbar": {
              "outlinewidth": 0,
              "ticks": ""
             }
            },
            "type": "scatter3d"
           }
          ],
          "scattercarpet": [
           {
            "marker": {
             "colorbar": {
              "outlinewidth": 0,
              "ticks": ""
             }
            },
            "type": "scattercarpet"
           }
          ],
          "scattergeo": [
           {
            "marker": {
             "colorbar": {
              "outlinewidth": 0,
              "ticks": ""
             }
            },
            "type": "scattergeo"
           }
          ],
          "scattergl": [
           {
            "marker": {
             "colorbar": {
              "outlinewidth": 0,
              "ticks": ""
             }
            },
            "type": "scattergl"
           }
          ],
          "scattermapbox": [
           {
            "marker": {
             "colorbar": {
              "outlinewidth": 0,
              "ticks": ""
             }
            },
            "type": "scattermapbox"
           }
          ],
          "scatterpolar": [
           {
            "marker": {
             "colorbar": {
              "outlinewidth": 0,
              "ticks": ""
             }
            },
            "type": "scatterpolar"
           }
          ],
          "scatterpolargl": [
           {
            "marker": {
             "colorbar": {
              "outlinewidth": 0,
              "ticks": ""
             }
            },
            "type": "scatterpolargl"
           }
          ],
          "scatterternary": [
           {
            "marker": {
             "colorbar": {
              "outlinewidth": 0,
              "ticks": ""
             }
            },
            "type": "scatterternary"
           }
          ],
          "surface": [
           {
            "colorbar": {
             "outlinewidth": 0,
             "ticks": ""
            },
            "colorscale": [
             [
              0,
              "#0d0887"
             ],
             [
              0.1111111111111111,
              "#46039f"
             ],
             [
              0.2222222222222222,
              "#7201a8"
             ],
             [
              0.3333333333333333,
              "#9c179e"
             ],
             [
              0.4444444444444444,
              "#bd3786"
             ],
             [
              0.5555555555555556,
              "#d8576b"
             ],
             [
              0.6666666666666666,
              "#ed7953"
             ],
             [
              0.7777777777777778,
              "#fb9f3a"
             ],
             [
              0.8888888888888888,
              "#fdca26"
             ],
             [
              1,
              "#f0f921"
             ]
            ],
            "type": "surface"
           }
          ],
          "table": [
           {
            "cells": {
             "fill": {
              "color": "#EBF0F8"
             },
             "line": {
              "color": "white"
             }
            },
            "header": {
             "fill": {
              "color": "#C8D4E3"
             },
             "line": {
              "color": "white"
             }
            },
            "type": "table"
           }
          ]
         },
         "layout": {
          "annotationdefaults": {
           "arrowcolor": "#2a3f5f",
           "arrowhead": 0,
           "arrowwidth": 1
          },
          "autotypenumbers": "strict",
          "coloraxis": {
           "colorbar": {
            "outlinewidth": 0,
            "ticks": ""
           }
          },
          "colorscale": {
           "diverging": [
            [
             0,
             "#8e0152"
            ],
            [
             0.1,
             "#c51b7d"
            ],
            [
             0.2,
             "#de77ae"
            ],
            [
             0.3,
             "#f1b6da"
            ],
            [
             0.4,
             "#fde0ef"
            ],
            [
             0.5,
             "#f7f7f7"
            ],
            [
             0.6,
             "#e6f5d0"
            ],
            [
             0.7,
             "#b8e186"
            ],
            [
             0.8,
             "#7fbc41"
            ],
            [
             0.9,
             "#4d9221"
            ],
            [
             1,
             "#276419"
            ]
           ],
           "sequential": [
            [
             0,
             "#0d0887"
            ],
            [
             0.1111111111111111,
             "#46039f"
            ],
            [
             0.2222222222222222,
             "#7201a8"
            ],
            [
             0.3333333333333333,
             "#9c179e"
            ],
            [
             0.4444444444444444,
             "#bd3786"
            ],
            [
             0.5555555555555556,
             "#d8576b"
            ],
            [
             0.6666666666666666,
             "#ed7953"
            ],
            [
             0.7777777777777778,
             "#fb9f3a"
            ],
            [
             0.8888888888888888,
             "#fdca26"
            ],
            [
             1,
             "#f0f921"
            ]
           ],
           "sequentialminus": [
            [
             0,
             "#0d0887"
            ],
            [
             0.1111111111111111,
             "#46039f"
            ],
            [
             0.2222222222222222,
             "#7201a8"
            ],
            [
             0.3333333333333333,
             "#9c179e"
            ],
            [
             0.4444444444444444,
             "#bd3786"
            ],
            [
             0.5555555555555556,
             "#d8576b"
            ],
            [
             0.6666666666666666,
             "#ed7953"
            ],
            [
             0.7777777777777778,
             "#fb9f3a"
            ],
            [
             0.8888888888888888,
             "#fdca26"
            ],
            [
             1,
             "#f0f921"
            ]
           ]
          },
          "colorway": [
           "#636efa",
           "#EF553B",
           "#00cc96",
           "#ab63fa",
           "#FFA15A",
           "#19d3f3",
           "#FF6692",
           "#B6E880",
           "#FF97FF",
           "#FECB52"
          ],
          "font": {
           "color": "#2a3f5f"
          },
          "geo": {
           "bgcolor": "white",
           "lakecolor": "white",
           "landcolor": "#E5ECF6",
           "showlakes": true,
           "showland": true,
           "subunitcolor": "white"
          },
          "hoverlabel": {
           "align": "left"
          },
          "hovermode": "closest",
          "mapbox": {
           "style": "light"
          },
          "paper_bgcolor": "white",
          "plot_bgcolor": "#E5ECF6",
          "polar": {
           "angularaxis": {
            "gridcolor": "white",
            "linecolor": "white",
            "ticks": ""
           },
           "bgcolor": "#E5ECF6",
           "radialaxis": {
            "gridcolor": "white",
            "linecolor": "white",
            "ticks": ""
           }
          },
          "scene": {
           "xaxis": {
            "backgroundcolor": "#E5ECF6",
            "gridcolor": "white",
            "gridwidth": 2,
            "linecolor": "white",
            "showbackground": true,
            "ticks": "",
            "zerolinecolor": "white"
           },
           "yaxis": {
            "backgroundcolor": "#E5ECF6",
            "gridcolor": "white",
            "gridwidth": 2,
            "linecolor": "white",
            "showbackground": true,
            "ticks": "",
            "zerolinecolor": "white"
           },
           "zaxis": {
            "backgroundcolor": "#E5ECF6",
            "gridcolor": "white",
            "gridwidth": 2,
            "linecolor": "white",
            "showbackground": true,
            "ticks": "",
            "zerolinecolor": "white"
           }
          },
          "shapedefaults": {
           "line": {
            "color": "#2a3f5f"
           }
          },
          "ternary": {
           "aaxis": {
            "gridcolor": "white",
            "linecolor": "white",
            "ticks": ""
           },
           "baxis": {
            "gridcolor": "white",
            "linecolor": "white",
            "ticks": ""
           },
           "bgcolor": "#E5ECF6",
           "caxis": {
            "gridcolor": "white",
            "linecolor": "white",
            "ticks": ""
           }
          },
          "title": {
           "x": 0.05
          },
          "xaxis": {
           "automargin": true,
           "gridcolor": "white",
           "linecolor": "white",
           "ticks": "",
           "title": {
            "standoff": 15
           },
           "zerolinecolor": "white",
           "zerolinewidth": 2
          },
          "yaxis": {
           "automargin": true,
           "gridcolor": "white",
           "linecolor": "white",
           "ticks": "",
           "title": {
            "standoff": 15
           },
           "zerolinecolor": "white",
           "zerolinewidth": 2
          }
         }
        },
        "width": 800
       }
      }
     },
     "metadata": {},
     "output_type": "display_data"
    }
   ],
   "source": [
    "fig = px.scatter_3d(\n",
    "    shopping_df,\n",
    "    x=\"Annual Income\",\n",
    "    y=\"Spending Score (1-100)\",\n",
    "    z=\"Age\",\n",
    "    color=\"class\",\n",
    "    symbol=\"class\",\n",
    "    width=800,\n",
    ")\n",
    "fig.update_layout(legend=dict(x=0, y=1))\n",
    "fig.show()"
   ]
  },
  {
   "cell_type": "code",
   "execution_count": null,
   "metadata": {},
   "outputs": [],
   "source": []
  }
 ],
 "metadata": {
  "interpreter": {
   "hash": "38a8df918e74c7898a659f10c07109aafb29d4bee744eb493323f70574c6250f"
  },
  "kernelspec": {
   "display_name": "Python 3.7.10 64-bit ('mlenv': conda)",
   "name": "python3"
  },
  "language_info": {
   "codemirror_mode": {
    "name": "ipython",
    "version": 3
   },
   "file_extension": ".py",
   "mimetype": "text/x-python",
   "name": "python",
   "nbconvert_exporter": "python",
   "pygments_lexer": "ipython3",
   "version": "3.7.10"
  }
 },
 "nbformat": 4,
 "nbformat_minor": 5
}
